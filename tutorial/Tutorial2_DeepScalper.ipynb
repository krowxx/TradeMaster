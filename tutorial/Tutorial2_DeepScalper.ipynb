{
 "cells": [
  {
   "attachments": {},
   "cell_type": "markdown",
   "metadata": {},
   "source": [
    "# Tutorial 2\n",
    "We show how to train DeepScalper on BTC trading."
   ]
  },
  {
   "cell_type": "markdown",
   "metadata": {},
   "source": [
    "## Step 1: Import Packages\n",
    "Modify the system path and load the corresponding packages and functions "
   ]
  },
  {
   "cell_type": "code",
   "execution_count": null,
   "metadata": {},
   "outputs": [],
   "source": [
    "import os\n",
    "import sys\n",
    "\n",
    "import warnings\n",
    "warnings.filterwarnings(\"ignore\")\n",
    "\n",
    "ROOT = os.path.dirname(os.path.abspath(\".\"))\n",
    "sys.path.append(ROOT)\n",
    "\n",
    "import torch\n",
    "import argparse\n",
    "import os.path as osp\n",
    "from mmcv import Config\n",
    "from trademaster.utils import replace_cfg_vals\n",
    "from trademaster.nets.builder import build_net\n",
    "from trademaster.environments.builder import build_environment\n",
    "from trademaster.datasets.builder import build_dataset\n",
    "from trademaster.agents.builder import build_agent\n",
    "from trademaster.optimizers.builder import build_optimizer\n",
    "from trademaster.losses.builder import build_loss\n",
    "from trademaster.trainers.builder import build_trainer\n",
    "from trademaster.transition.builder import build_transition\n",
    "from trademaster.utils import plot\n",
    "from trademaster.utils import set_seed\n",
    "set_seed(2023)"
   ]
  },
  {
   "cell_type": "code",
   "execution_count": 1,
   "metadata": {},
   "outputs": [
    {
     "data": {
      "text/html": [
       "<div>\n",
       "<style scoped>\n",
       "    .dataframe tbody tr th:only-of-type {\n",
       "        vertical-align: middle;\n",
       "    }\n",
       "\n",
       "    .dataframe tbody tr th {\n",
       "        vertical-align: top;\n",
       "    }\n",
       "\n",
       "    .dataframe thead th {\n",
       "        text-align: right;\n",
       "    }\n",
       "</style>\n",
       "<table border=\"1\" class=\"dataframe\">\n",
       "  <thead>\n",
       "    <tr style=\"text-align: right;\">\n",
       "      <th></th>\n",
       "      <th>Date</th>\n",
       "      <th>last_price</th>\n",
       "      <th>rsi</th>\n",
       "      <th>oisi</th>\n",
       "      <th>mfi</th>\n",
       "      <th>adx</th>\n",
       "      <th>high_vol</th>\n",
       "      <th>longs_closing</th>\n",
       "      <th>longs_opening</th>\n",
       "      <th>shorts_closing</th>\n",
       "      <th>shorts_opening</th>\n",
       "      <th>upper_band_diff</th>\n",
       "      <th>lower_band_diff</th>\n",
       "      <th>vwap_diff</th>\n",
       "      <th>openz</th>\n",
       "      <th>highz</th>\n",
       "      <th>lowz</th>\n",
       "      <th>closez</th>\n",
       "    </tr>\n",
       "  </thead>\n",
       "  <tbody>\n",
       "    <tr>\n",
       "      <th>0</th>\n",
       "      <td>2020-09-01 20:00:00</td>\n",
       "      <td>11975.750</td>\n",
       "      <td>37.674194</td>\n",
       "      <td>48.224111</td>\n",
       "      <td>39.813471</td>\n",
       "      <td>17.024754</td>\n",
       "      <td>0</td>\n",
       "      <td>1</td>\n",
       "      <td>0</td>\n",
       "      <td>0</td>\n",
       "      <td>0</td>\n",
       "      <td>0.511704</td>\n",
       "      <td>-0.511704</td>\n",
       "      <td>0.000000e+00</td>\n",
       "      <td>-1.302852</td>\n",
       "      <td>-1.087445</td>\n",
       "      <td>-1.048698</td>\n",
       "      <td>-1.324823</td>\n",
       "    </tr>\n",
       "    <tr>\n",
       "      <th>1</th>\n",
       "      <td>2020-09-01 20:05:00</td>\n",
       "      <td>11969.500</td>\n",
       "      <td>32.981467</td>\n",
       "      <td>48.118494</td>\n",
       "      <td>39.163195</td>\n",
       "      <td>18.939738</td>\n",
       "      <td>1</td>\n",
       "      <td>1</td>\n",
       "      <td>0</td>\n",
       "      <td>0</td>\n",
       "      <td>0</td>\n",
       "      <td>0.482926</td>\n",
       "      <td>-0.482926</td>\n",
       "      <td>0.000000e+00</td>\n",
       "      <td>-1.323782</td>\n",
       "      <td>-1.418689</td>\n",
       "      <td>-1.732195</td>\n",
       "      <td>-1.754123</td>\n",
       "    </tr>\n",
       "    <tr>\n",
       "      <th>2</th>\n",
       "      <td>2020-09-01 20:10:00</td>\n",
       "      <td>11960.375</td>\n",
       "      <td>27.579985</td>\n",
       "      <td>48.120966</td>\n",
       "      <td>27.893882</td>\n",
       "      <td>20.818264</td>\n",
       "      <td>0</td>\n",
       "      <td>0</td>\n",
       "      <td>1</td>\n",
       "      <td>0</td>\n",
       "      <td>0</td>\n",
       "      <td>0.479026</td>\n",
       "      <td>-0.479026</td>\n",
       "      <td>0.000000e+00</td>\n",
       "      <td>-1.752291</td>\n",
       "      <td>-1.750487</td>\n",
       "      <td>-1.741330</td>\n",
       "      <td>-1.951232</td>\n",
       "    </tr>\n",
       "    <tr>\n",
       "      <th>3</th>\n",
       "      <td>2020-09-01 20:15:00</td>\n",
       "      <td>11969.250</td>\n",
       "      <td>38.183868</td>\n",
       "      <td>48.093742</td>\n",
       "      <td>27.444918</td>\n",
       "      <td>20.508287</td>\n",
       "      <td>0</td>\n",
       "      <td>0</td>\n",
       "      <td>0</td>\n",
       "      <td>1</td>\n",
       "      <td>0</td>\n",
       "      <td>0.458606</td>\n",
       "      <td>-0.458606</td>\n",
       "      <td>0.000000e+00</td>\n",
       "      <td>-1.949091</td>\n",
       "      <td>-0.905076</td>\n",
       "      <td>-1.656494</td>\n",
       "      <td>-0.509405</td>\n",
       "    </tr>\n",
       "    <tr>\n",
       "      <th>4</th>\n",
       "      <td>2020-09-01 20:20:00</td>\n",
       "      <td>11978.375</td>\n",
       "      <td>46.807769</td>\n",
       "      <td>48.087306</td>\n",
       "      <td>28.953984</td>\n",
       "      <td>20.024736</td>\n",
       "      <td>0</td>\n",
       "      <td>0</td>\n",
       "      <td>0</td>\n",
       "      <td>1</td>\n",
       "      <td>0</td>\n",
       "      <td>0.428232</td>\n",
       "      <td>-0.428232</td>\n",
       "      <td>0.000000e+00</td>\n",
       "      <td>-0.509169</td>\n",
       "      <td>-0.789717</td>\n",
       "      <td>-0.323943</td>\n",
       "      <td>-0.685066</td>\n",
       "    </tr>\n",
       "    <tr>\n",
       "      <th>...</th>\n",
       "      <td>...</td>\n",
       "      <td>...</td>\n",
       "      <td>...</td>\n",
       "      <td>...</td>\n",
       "      <td>...</td>\n",
       "      <td>...</td>\n",
       "      <td>...</td>\n",
       "      <td>...</td>\n",
       "      <td>...</td>\n",
       "      <td>...</td>\n",
       "      <td>...</td>\n",
       "      <td>...</td>\n",
       "      <td>...</td>\n",
       "      <td>...</td>\n",
       "      <td>...</td>\n",
       "      <td>...</td>\n",
       "      <td>...</td>\n",
       "      <td>...</td>\n",
       "    </tr>\n",
       "    <tr>\n",
       "      <th>366129</th>\n",
       "      <td>2024-03-02 23:35:00</td>\n",
       "      <td>62065.750</td>\n",
       "      <td>62.863808</td>\n",
       "      <td>51.678115</td>\n",
       "      <td>55.545914</td>\n",
       "      <td>15.521840</td>\n",
       "      <td>0</td>\n",
       "      <td>1</td>\n",
       "      <td>0</td>\n",
       "      <td>0</td>\n",
       "      <td>0</td>\n",
       "      <td>0.430897</td>\n",
       "      <td>-0.430897</td>\n",
       "      <td>1.172298e-14</td>\n",
       "      <td>0.843616</td>\n",
       "      <td>1.208074</td>\n",
       "      <td>0.985107</td>\n",
       "      <td>1.238855</td>\n",
       "    </tr>\n",
       "    <tr>\n",
       "      <th>366130</th>\n",
       "      <td>2024-03-02 23:40:00</td>\n",
       "      <td>62093.800</td>\n",
       "      <td>65.448899</td>\n",
       "      <td>51.696692</td>\n",
       "      <td>56.932071</td>\n",
       "      <td>15.538116</td>\n",
       "      <td>0</td>\n",
       "      <td>0</td>\n",
       "      <td>1</td>\n",
       "      <td>0</td>\n",
       "      <td>0</td>\n",
       "      <td>0.431008</td>\n",
       "      <td>-0.431008</td>\n",
       "      <td>0.000000e+00</td>\n",
       "      <td>1.238855</td>\n",
       "      <td>1.332066</td>\n",
       "      <td>1.519130</td>\n",
       "      <td>1.420015</td>\n",
       "    </tr>\n",
       "    <tr>\n",
       "      <th>366131</th>\n",
       "      <td>2024-03-02 23:45:00</td>\n",
       "      <td>62081.300</td>\n",
       "      <td>63.333116</td>\n",
       "      <td>51.590870</td>\n",
       "      <td>58.380620</td>\n",
       "      <td>15.139127</td>\n",
       "      <td>0</td>\n",
       "      <td>1</td>\n",
       "      <td>0</td>\n",
       "      <td>0</td>\n",
       "      <td>0</td>\n",
       "      <td>0.432017</td>\n",
       "      <td>-0.432017</td>\n",
       "      <td>0.000000e+00</td>\n",
       "      <td>1.420015</td>\n",
       "      <td>1.044015</td>\n",
       "      <td>1.258167</td>\n",
       "      <td>1.286972</td>\n",
       "    </tr>\n",
       "    <tr>\n",
       "      <th>366132</th>\n",
       "      <td>2024-03-02 23:50:00</td>\n",
       "      <td>62074.900</td>\n",
       "      <td>62.223988</td>\n",
       "      <td>51.597417</td>\n",
       "      <td>58.704881</td>\n",
       "      <td>14.768636</td>\n",
       "      <td>0</td>\n",
       "      <td>0</td>\n",
       "      <td>0</td>\n",
       "      <td>0</td>\n",
       "      <td>1</td>\n",
       "      <td>0.429426</td>\n",
       "      <td>-0.429426</td>\n",
       "      <td>0.000000e+00</td>\n",
       "      <td>1.286972</td>\n",
       "      <td>0.988174</td>\n",
       "      <td>1.299976</td>\n",
       "      <td>1.082321</td>\n",
       "    </tr>\n",
       "    <tr>\n",
       "      <th>366133</th>\n",
       "      <td>2024-03-02 23:55:00</td>\n",
       "      <td>62052.500</td>\n",
       "      <td>58.370977</td>\n",
       "      <td>51.631834</td>\n",
       "      <td>58.174554</td>\n",
       "      <td>13.757838</td>\n",
       "      <td>0</td>\n",
       "      <td>0</td>\n",
       "      <td>0</td>\n",
       "      <td>0</td>\n",
       "      <td>1</td>\n",
       "      <td>0.424523</td>\n",
       "      <td>-0.424523</td>\n",
       "      <td>0.000000e+00</td>\n",
       "      <td>1.082321</td>\n",
       "      <td>0.748178</td>\n",
       "      <td>0.932183</td>\n",
       "      <td>0.918910</td>\n",
       "    </tr>\n",
       "  </tbody>\n",
       "</table>\n",
       "<p>366134 rows × 18 columns</p>\n",
       "</div>"
      ],
      "text/plain": [
       "                       Date  last_price        rsi       oisi        mfi  \\\n",
       "0       2020-09-01 20:00:00   11975.750  37.674194  48.224111  39.813471   \n",
       "1       2020-09-01 20:05:00   11969.500  32.981467  48.118494  39.163195   \n",
       "2       2020-09-01 20:10:00   11960.375  27.579985  48.120966  27.893882   \n",
       "3       2020-09-01 20:15:00   11969.250  38.183868  48.093742  27.444918   \n",
       "4       2020-09-01 20:20:00   11978.375  46.807769  48.087306  28.953984   \n",
       "...                     ...         ...        ...        ...        ...   \n",
       "366129  2024-03-02 23:35:00   62065.750  62.863808  51.678115  55.545914   \n",
       "366130  2024-03-02 23:40:00   62093.800  65.448899  51.696692  56.932071   \n",
       "366131  2024-03-02 23:45:00   62081.300  63.333116  51.590870  58.380620   \n",
       "366132  2024-03-02 23:50:00   62074.900  62.223988  51.597417  58.704881   \n",
       "366133  2024-03-02 23:55:00   62052.500  58.370977  51.631834  58.174554   \n",
       "\n",
       "              adx  high_vol  longs_closing  longs_opening  shorts_closing  \\\n",
       "0       17.024754         0              1              0               0   \n",
       "1       18.939738         1              1              0               0   \n",
       "2       20.818264         0              0              1               0   \n",
       "3       20.508287         0              0              0               1   \n",
       "4       20.024736         0              0              0               1   \n",
       "...           ...       ...            ...            ...             ...   \n",
       "366129  15.521840         0              1              0               0   \n",
       "366130  15.538116         0              0              1               0   \n",
       "366131  15.139127         0              1              0               0   \n",
       "366132  14.768636         0              0              0               0   \n",
       "366133  13.757838         0              0              0               0   \n",
       "\n",
       "        shorts_opening  upper_band_diff  lower_band_diff     vwap_diff  \\\n",
       "0                    0         0.511704        -0.511704  0.000000e+00   \n",
       "1                    0         0.482926        -0.482926  0.000000e+00   \n",
       "2                    0         0.479026        -0.479026  0.000000e+00   \n",
       "3                    0         0.458606        -0.458606  0.000000e+00   \n",
       "4                    0         0.428232        -0.428232  0.000000e+00   \n",
       "...                ...              ...              ...           ...   \n",
       "366129               0         0.430897        -0.430897  1.172298e-14   \n",
       "366130               0         0.431008        -0.431008  0.000000e+00   \n",
       "366131               0         0.432017        -0.432017  0.000000e+00   \n",
       "366132               1         0.429426        -0.429426  0.000000e+00   \n",
       "366133               1         0.424523        -0.424523  0.000000e+00   \n",
       "\n",
       "           openz     highz      lowz    closez  \n",
       "0      -1.302852 -1.087445 -1.048698 -1.324823  \n",
       "1      -1.323782 -1.418689 -1.732195 -1.754123  \n",
       "2      -1.752291 -1.750487 -1.741330 -1.951232  \n",
       "3      -1.949091 -0.905076 -1.656494 -0.509405  \n",
       "4      -0.509169 -0.789717 -0.323943 -0.685066  \n",
       "...          ...       ...       ...       ...  \n",
       "366129  0.843616  1.208074  0.985107  1.238855  \n",
       "366130  1.238855  1.332066  1.519130  1.420015  \n",
       "366131  1.420015  1.044015  1.258167  1.286972  \n",
       "366132  1.286972  0.988174  1.299976  1.082321  \n",
       "366133  1.082321  0.748178  0.932183  0.918910  \n",
       "\n",
       "[366134 rows x 18 columns]"
      ]
     },
     "execution_count": 1,
     "metadata": {},
     "output_type": "execute_result"
    }
   ],
   "source": [
    "#read the 5m_data.csv file  \n",
    "import pandas as pd\n",
    "\n",
    "csv = pd.read_csv('/home/krow/Desktop/coding/loltrain/deepscalp/TradeMaster/data/algorithmic_trading/BTC2/5m_data.csv')\n",
    "csv"
   ]
  },
  {
   "cell_type": "code",
   "execution_count": null,
   "metadata": {},
   "outputs": [],
   "source": [
    "#split into train, validate and test and save as csv in same folder\n",
    "train = csv[:int(0.7*len(csv))]\n",
    "validate = csv[int(0.7*len(csv)):int(0.85*len(csv))]\n",
    "test = csv[int(0.85*len(csv)):]\n",
    "train.to_csv('/home/krow/Desktop/coding/loltrain/deepscalp/TradeMaster/data/algorithmic_trading/BTC2/train.csv', index=False)\n",
    "validate.to_csv('/home/krow/Desktop/coding/loltrain/deepscalp/TradeMaster/data/algorithmic_trading/BTC2/validate.csv', index=False)\n",
    "test.to_csv('/home/krow/Desktop/coding/loltrain/deepscalp/TradeMaster/data/algorithmic_trading/BTC2/test.csv', index=False)"
   ]
  },
  {
   "cell_type": "code",
   "execution_count": null,
   "metadata": {},
   "outputs": [],
   "source": []
  },
  {
   "attachments": {},
   "cell_type": "markdown",
   "metadata": {},
   "source": [
    "## Step 2: Load Configs\n",
    "Load default config from the file `configs/algorithmic_trading/algorithmic_trading_BTC_deepscalper_deepscalper_adam_mse.py`"
   ]
  },
  {
   "cell_type": "code",
   "execution_count": null,
   "metadata": {},
   "outputs": [],
   "source": [
    "\n",
    "parser = argparse.ArgumentParser(description='Open s1m data')\n",
    "parser.add_argument(\"--config\", default=osp.join(ROOT, \"configs\", \"algorithmic_trading\", \"deepsn1per.py\"),\n",
    "                    help=\"download datasets config file path\")\n",
    "parser.add_argument(\"--task_name\", type=str, default=\"train\")\n",
    "args, _= parser.parse_known_args()\n",
    "\n",
    "cfg = Config.fromfile(args.config)\n",
    "task_name = args.task_name\n",
    "cfg = replace_cfg_vals(cfg)"
   ]
  },
  {
   "cell_type": "code",
   "execution_count": null,
   "metadata": {},
   "outputs": [],
   "source": [
    "cfg"
   ]
  },
  {
   "cell_type": "markdown",
   "metadata": {},
   "source": [
    "## Step 3: Build Dataset"
   ]
  },
  {
   "cell_type": "code",
   "execution_count": null,
   "metadata": {},
   "outputs": [],
   "source": [
    "dataset = build_dataset(cfg)"
   ]
  },
  {
   "cell_type": "markdown",
   "metadata": {},
   "source": [
    "## Step 4: Build Reinforcement Learning Environments\n",
    "Build environments based on cfg and predefined dataset"
   ]
  },
  {
   "cell_type": "code",
   "execution_count": null,
   "metadata": {},
   "outputs": [],
   "source": [
    "train_environment = build_environment(cfg, default_args=dict(dataset=dataset, task=\"train\"))\n",
    "valid_environment = build_environment(cfg, default_args=dict(dataset=dataset, task=\"valid\"))\n",
    "test_environment = build_environment(cfg, default_args=dict(dataset=dataset, task=\"test\"))"
   ]
  },
  {
   "cell_type": "code",
   "execution_count": null,
   "metadata": {},
   "outputs": [],
   "source": [
    "train_environment.df.head()"
   ]
  },
  {
   "cell_type": "markdown",
   "metadata": {},
   "source": [
    "## Step 5: Build Net \n",
    "Update information about the state and action dimension. Create networks and optimizer for DeepScalper\n"
   ]
  },
  {
   "cell_type": "code",
   "execution_count": null,
   "metadata": {},
   "outputs": [],
   "source": [
    "action_dim = train_environment.action_dim\n",
    "state_dim = train_environment.state_dim\n",
    "\n",
    "cfg.act.update(dict(action_dim=action_dim, state_dim=state_dim))\n",
    "act = build_net(cfg.act)\n",
    "act_optimizer = build_optimizer(cfg, default_args=dict(params=act.parameters()))\n",
    "if cfg.cri:\n",
    "    cfg.cri.update(dict(action_dim=action_dim, state_dim=state_dim))\n",
    "    cri = build_net(cfg.cri)\n",
    "    cri_optimizer = build_optimizer(cfg, default_args=dict(params=cri.parameters()))\n",
    "else:\n",
    "    cri = None\n",
    "    cri_optimizer = None"
   ]
  },
  {
   "cell_type": "markdown",
   "metadata": {},
   "source": [
    "## Step 6: Build Loss"
   ]
  },
  {
   "cell_type": "code",
   "execution_count": null,
   "metadata": {},
   "outputs": [],
   "source": [
    "criterion = build_loss(cfg)"
   ]
  },
  {
   "cell_type": "markdown",
   "metadata": {},
   "source": [
    "## Step 7: Build Transition"
   ]
  },
  {
   "cell_type": "code",
   "execution_count": null,
   "metadata": {},
   "outputs": [],
   "source": [
    "transition = build_transition(cfg)\n"
   ]
  },
  {
   "cell_type": "markdown",
   "metadata": {},
   "source": [
    "## Step 8: Build Agent"
   ]
  },
  {
   "cell_type": "code",
   "execution_count": null,
   "metadata": {},
   "outputs": [],
   "source": [
    "device = torch.device('cuda' if torch.cuda.is_available() else 'cpu')\n",
    "agent = build_agent(cfg, default_args=dict(action_dim = action_dim,state_dim = state_dim,act = act,cri = cri,act_optimizer = act_optimizer,cri_optimizer = cri_optimizer, criterion = criterion,transition = transition,device=device))"
   ]
  },
  {
   "cell_type": "markdown",
   "metadata": {},
   "source": [
    "## Step 9: Build Trainer\n",
    "Build trainer from config and create work directionary to save the result, model and config"
   ]
  },
  {
   "cell_type": "code",
   "execution_count": null,
   "metadata": {},
   "outputs": [],
   "source": [
    "trainer = build_trainer(cfg, default_args=dict(train_environment=train_environment,valid_environment=valid_environment,test_environment=test_environment,agent=agent,device=device))"
   ]
  },
  {
   "cell_type": "markdown",
   "metadata": {},
   "source": [
    "## Step 10: Train the RL Agent\n",
    "Train the trainer based on the config and save results in workdir"
   ]
  },
  {
   "cell_type": "code",
   "execution_count": null,
   "metadata": {},
   "outputs": [],
   "source": [
    "trainer.train_and_valid()"
   ]
  },
  {
   "cell_type": "markdown",
   "metadata": {},
   "source": [
    "## Step 11: RL Agent Testing"
   ]
  },
  {
   "cell_type": "code",
   "execution_count": null,
   "metadata": {},
   "outputs": [],
   "source": [
    "trainer.test();"
   ]
  },
  {
   "cell_type": "code",
   "execution_count": null,
   "metadata": {},
   "outputs": [],
   "source": [
    "plot(trainer.test_environment.save_asset_memory(),alg=\"DeepScalper\")"
   ]
  }
 ],
 "metadata": {
  "kernelspec": {
   "display_name": "Python 3 (ipykernel)",
   "language": "python",
   "name": "python3"
  },
  "language_info": {
   "codemirror_mode": {
    "name": "ipython",
    "version": 3
   },
   "file_extension": ".py",
   "mimetype": "text/x-python",
   "name": "python",
   "nbconvert_exporter": "python",
   "pygments_lexer": "ipython3",
   "version": "3.9.18"
  },
  "vscode": {
   "interpreter": {
    "hash": "a1f97403911abd3f02553c8f2b0c54537fddc7efadd9f5d3e31784db6e40c347"
   }
  }
 },
 "nbformat": 4,
 "nbformat_minor": 2
}
