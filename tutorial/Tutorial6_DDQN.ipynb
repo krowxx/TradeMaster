{
   "cells": [
      {
         "cell_type": "markdown",
         "metadata": {},
         "source": [
            "# Tutorial 6\n",
            "We show how to train Double DQN for high frequency trading on Bitcoin."
         ]
      },
      {
         "cell_type": "markdown",
         "metadata": {},
         "source": [
            "## Step 1: Import Packages\n",
            "Modify the system path and load the corresponding packages and functions "
         ]
      },
      {
         "cell_type": "code",
         "execution_count": 1,
         "metadata": {},
         "outputs": [
            {
               "name": "stderr",
               "output_type": "stream",
               "text": [
                  "2023-03-04 19:13:04,200\tINFO services.py:1476 -- View the Ray dashboard at \u001b[1m\u001b[32mhttp://127.0.0.1:8270\u001b[39m\u001b[22m\n",
                  "2023-03-04 19:13:06,268\tINFO worker.py:973 -- Calling ray.init() again after it has already been called.\n"
               ]
            }
         ],
         "source": [
            "import os\n",
            "import sys\n",
            "from pathlib import Path\n",
            "import warnings\n",
            "warnings.filterwarnings(\"ignore\")\n",
            "\n",
            "ROOT = os.path.dirname(os.path.abspath(\".\"))\n",
            "sys.path.append(ROOT)\n",
            "\n",
            "import torch\n",
            "import argparse\n",
            "import os.path as osp\n",
            "from mmcv import Config\n",
            "from trademaster.utils import replace_cfg_vals\n",
            "from trademaster.nets.builder import build_net\n",
            "from trademaster.environments.builder import build_environment\n",
            "from trademaster.datasets.builder import build_dataset\n",
            "from trademaster.agents.builder import build_agent\n",
            "from trademaster.optimizers.builder import build_optimizer\n",
            "from trademaster.losses.builder import build_loss\n",
            "from trademaster.trainers.builder import build_trainer\n",
            "from trademaster.transition.builder import build_transition\n",
            "from trademaster.utils import plot\n",
            "from trademaster.utils import set_seed\n",
            "set_seed(2023)"
         ]
      },
      {
         "cell_type": "markdown",
         "metadata": {},
         "source": [
            "## Step 2: Load Configs\n",
            "Load default config from the file `configs/high_frequency_trading/high_frequency_trading_BTC_dqn_dqn_adam_mse.py`"
         ]
      },
      {
         "cell_type": "code",
         "execution_count": 2,
         "metadata": {},
         "outputs": [],
         "source": [
            "parser = argparse.ArgumentParser(description='Download Alpaca Datasets')\n",
            "parser.add_argument(\"--config\", default=osp.join(ROOT, \"configs\", \"high_frequency_trading\", \"high_frequency_trading_BTC_dqn_dqn_adam_mse.py\"),\n",
            "                    help=\"download datasets config file path\")\n",
            "parser.add_argument(\"--task_name\", type=str, default=\"train\")\n",
            "\n",
            "args, _ = parser.parse_known_args()\n",
            "cfg = Config.fromfile(args.config)\n",
            "task_name = args.task_name\n",
            "cfg = replace_cfg_vals(cfg)"
         ]
      },
      {
         "cell_type": "code",
         "execution_count": 3,
         "metadata": {},
         "outputs": [
            {
               "data": {
                  "text/plain": [
                     "Config (path: /data/sunshuo/qml/TradeMaster/configs/high_frequency_trading/high_frequency_trading_BTC_dqn_dqn_adam_mse.py): {'data': {'type': 'HighFrequencyTradingDataset', 'data_path': 'data/high_frequency_trading/small_BTC', 'train_path': 'data/high_frequency_trading/small_BTC/train.csv', 'valid_path': 'data/high_frequency_trading/small_BTC/valid.csv', 'test_path': 'data/high_frequency_trading/small_BTC/test.csv', 'test_dynamic_path': 'data/high_frequency_trading/small_BTC/test_labeled_3_300_-0.01_0.01.csv', 'tech_indicator_list': ['imblance_volume_oe', 'sell_spread_oe', 'buy_spread_oe', 'kmid2', 'bid1_size_n', 'ksft2', 'ma_10', 'ksft', 'kmid', 'ask1_size_n', 'trade_diff', 'qtlu_10', 'qtld_10', 'cntd_10', 'beta_10', 'roc_10', 'bid5_size_n', 'rsv_10', 'imxd_10', 'ask5_size_n', 'ma_30', 'max_10', 'qtlu_30', 'imax_10', 'imin_10', 'min_10', 'qtld_30', 'cntn_10', 'rsv_30', 'cntp_10', 'ma_60', 'max_30', 'qtlu_60', 'qtld_60', 'cntd_30', 'roc_30', 'beta_30', 'bid4_size_n', 'rsv_60', 'ask4_size_n', 'imxd_30', 'min_30', 'max_60', 'imax_30', 'imin_30', 'cntd_60', 'roc_60', 'beta_60', 'cntn_30', 'min_60', 'cntp_30', 'bid3_size_n', 'imxd_60', 'ask3_size_n', 'sell_volume_oe', 'imax_60', 'imin_60', 'cntn_60', 'buy_volume_oe', 'cntp_60', 'bid2_size_n', 'kup', 'bid1_size', 'ask1_size', 'std_30', 'ask2_size_n'], 'transcation_cost': 0, 'backward_num_timestamp': 1, 'max_holding_number': 0.01, 'num_action': 11, 'max_punish': 1000000000000.0, 'episode_length': 14400}, 'environment': {'type': 'HighFrequencyTradingEnvironment'}, 'agent': {'type': 'HighFrequencyTradingDDQN', 'auxiliary_coffient': 512, 'reward_scale': 1, 'repeat_times': 1, 'gamma': 0.99, 'batch_size': 64, 'clip_grad_norm': 3.0, 'soft_update_tau': 0, 'state_value_tau': 0.005}, 'trainer': {'type': 'HighFrequencyTradingTrainer', 'epochs': 10, 'work_dir': 'work_dir/high_frequency_trading_BTC_high_frequency_trading_dqn_ddqn_adam_mse', 'seeds': 12345, 'batch_size': 512, 'horizon_len': 512, 'buffer_size': 100000.0, 'num_threads': 8, 'if_remove': False, 'if_discrete': True, 'if_off_policy': True, 'if_keep_save': True, 'if_over_write': False, 'if_save_buffer': False}, 'loss': {'type': 'HFTLoss', 'ada': 1}, 'optimizer': {'type': 'Adam', 'lr': 0.001}, 'act': {'type': 'HFTQNet', 'state_dim': 66, 'action_dim': 11, 'dims': 16, 'explore_rate': 0.01, 'max_punish': 0}, 'cri': None, 'task_name': 'high_frequency_trading', 'dataset_name': 'BTC', 'optimizer_name': 'adam', 'loss_name': 'mse', 'auxiliry_loss_name': 'KLdiv', 'net_name': 'high_frequency_trading_dqn', 'agent_name': 'ddqn', 'work_dir': 'work_dir/high_frequency_trading_BTC_high_frequency_trading_dqn_ddqn_adam_mse', 'batch_size': 512, 'train_environment': {'type': 'HighFrequencyTradingTrainingEnvironment'}}"
                  ]
               },
               "execution_count": 3,
               "metadata": {},
               "output_type": "execute_result"
            }
         ],
         "source": [
            "cfg"
         ]
      },
      {
         "cell_type": "markdown",
         "metadata": {},
         "source": [
            "## Step 3: Build Dataset"
         ]
      },
      {
         "cell_type": "code",
         "execution_count": 4,
         "metadata": {},
         "outputs": [],
         "source": [
            "dataset = build_dataset(cfg)"
         ]
      },
      {
         "cell_type": "markdown",
         "metadata": {},
         "source": [
            "## Step 4: Build Reinforcement Learning Environments\n",
            "Build environments based on cfg and predefined dataset\n",
            "\n"
         ]
      },
      {
         "cell_type": "code",
         "execution_count": 5,
         "metadata": {},
         "outputs": [],
         "source": [
            "valid_environment = build_environment(cfg, default_args=dict(dataset=dataset, task=\"valid\"))\n",
            "test_environment = build_environment(cfg, default_args=dict(dataset=dataset, task=\"test\"))\n",
            "cfg.environment = cfg.train_environment\n",
            "train_environment = build_environment(cfg, default_args=dict(dataset=dataset, task=\"train\"))"
         ]
      },
      {
         "cell_type": "code",
         "execution_count": 6,
         "metadata": {},
         "outputs": [
            {
               "data": {
                  "text/html": [
                     "<div>\n",
                     "<style scoped>\n",
                     "    .dataframe tbody tr th:only-of-type {\n",
                     "        vertical-align: middle;\n",
                     "    }\n",
                     "\n",
                     "    .dataframe tbody tr th {\n",
                     "        vertical-align: top;\n",
                     "    }\n",
                     "\n",
                     "    .dataframe thead th {\n",
                     "        text-align: right;\n",
                     "    }\n",
                     "</style>\n",
                     "<table border=\"1\" class=\"dataframe\">\n",
                     "  <thead>\n",
                     "    <tr style=\"text-align: right;\">\n",
                     "      <th></th>\n",
                     "      <th>bid1_price</th>\n",
                     "      <th>bid1_size</th>\n",
                     "      <th>bid2_price</th>\n",
                     "      <th>bid2_size</th>\n",
                     "      <th>bid3_price</th>\n",
                     "      <th>bid3_size</th>\n",
                     "      <th>bid4_price</th>\n",
                     "      <th>bid4_size</th>\n",
                     "      <th>bid5_price</th>\n",
                     "      <th>bid5_size</th>\n",
                     "      <th>...</th>\n",
                     "      <th>imxd_60</th>\n",
                     "      <th>cntp_10</th>\n",
                     "      <th>cntp_30</th>\n",
                     "      <th>cntp_60</th>\n",
                     "      <th>cntn_10</th>\n",
                     "      <th>cntn_30</th>\n",
                     "      <th>cntn_60</th>\n",
                     "      <th>cntd_10</th>\n",
                     "      <th>cntd_30</th>\n",
                     "      <th>cntd_60</th>\n",
                     "    </tr>\n",
                     "  </thead>\n",
                     "  <tbody>\n",
                     "    <tr>\n",
                     "      <th>0</th>\n",
                     "      <td>23794.3</td>\n",
                     "      <td>0.900828</td>\n",
                     "      <td>23792.9</td>\n",
                     "      <td>0.018588</td>\n",
                     "      <td>23792.8</td>\n",
                     "      <td>0.007388</td>\n",
                     "      <td>23792.1</td>\n",
                     "      <td>0.042018</td>\n",
                     "      <td>23792.0</td>\n",
                     "      <td>0.000300</td>\n",
                     "      <td>...</td>\n",
                     "      <td>1.193895</td>\n",
                     "      <td>0.268138</td>\n",
                     "      <td>0.963686</td>\n",
                     "      <td>0.800684</td>\n",
                     "      <td>-0.418841</td>\n",
                     "      <td>-0.017993</td>\n",
                     "      <td>-0.189727</td>\n",
                     "      <td>0.469470</td>\n",
                     "      <td>0.745885</td>\n",
                     "      <td>0.877378</td>\n",
                     "    </tr>\n",
                     "    <tr>\n",
                     "      <th>1</th>\n",
                     "      <td>23794.3</td>\n",
                     "      <td>0.000878</td>\n",
                     "      <td>23793.2</td>\n",
                     "      <td>0.014988</td>\n",
                     "      <td>23793.1</td>\n",
                     "      <td>0.147063</td>\n",
                     "      <td>23792.8</td>\n",
                     "      <td>0.007388</td>\n",
                     "      <td>23792.0</td>\n",
                     "      <td>0.000300</td>\n",
                     "      <td>...</td>\n",
                     "      <td>1.193895</td>\n",
                     "      <td>0.268138</td>\n",
                     "      <td>0.963686</td>\n",
                     "      <td>0.800684</td>\n",
                     "      <td>-1.027695</td>\n",
                     "      <td>-0.017993</td>\n",
                     "      <td>-0.358007</td>\n",
                     "      <td>0.891105</td>\n",
                     "      <td>0.745885</td>\n",
                     "      <td>1.031828</td>\n",
                     "    </tr>\n",
                     "    <tr>\n",
                     "      <th>2</th>\n",
                     "      <td>23794.3</td>\n",
                     "      <td>0.000878</td>\n",
                     "      <td>23793.2</td>\n",
                     "      <td>0.014988</td>\n",
                     "      <td>23792.8</td>\n",
                     "      <td>0.007388</td>\n",
                     "      <td>23792.0</td>\n",
                     "      <td>0.000300</td>\n",
                     "      <td>23791.8</td>\n",
                     "      <td>0.147071</td>\n",
                     "      <td>...</td>\n",
                     "      <td>1.139902</td>\n",
                     "      <td>0.268138</td>\n",
                     "      <td>1.257798</td>\n",
                     "      <td>0.976534</td>\n",
                     "      <td>-1.027695</td>\n",
                     "      <td>-0.017993</td>\n",
                     "      <td>-0.526286</td>\n",
                     "      <td>0.891105</td>\n",
                     "      <td>0.969180</td>\n",
                     "      <td>1.340727</td>\n",
                     "    </tr>\n",
                     "    <tr>\n",
                     "      <th>3</th>\n",
                     "      <td>23794.3</td>\n",
                     "      <td>0.000878</td>\n",
                     "      <td>23793.2</td>\n",
                     "      <td>0.014988</td>\n",
                     "      <td>23792.8</td>\n",
                     "      <td>0.007388</td>\n",
                     "      <td>23792.0</td>\n",
                     "      <td>0.000300</td>\n",
                     "      <td>23791.8</td>\n",
                     "      <td>0.147071</td>\n",
                     "      <td>...</td>\n",
                     "      <td>1.139902</td>\n",
                     "      <td>0.268138</td>\n",
                     "      <td>1.257798</td>\n",
                     "      <td>0.800684</td>\n",
                     "      <td>-1.027695</td>\n",
                     "      <td>-0.017993</td>\n",
                     "      <td>-0.526286</td>\n",
                     "      <td>0.891105</td>\n",
                     "      <td>0.969180</td>\n",
                     "      <td>1.186278</td>\n",
                     "    </tr>\n",
                     "    <tr>\n",
                     "      <th>4</th>\n",
                     "      <td>23794.3</td>\n",
                     "      <td>0.000878</td>\n",
                     "      <td>23793.2</td>\n",
                     "      <td>0.014988</td>\n",
                     "      <td>23792.8</td>\n",
                     "      <td>0.007388</td>\n",
                     "      <td>23792.0</td>\n",
                     "      <td>0.000300</td>\n",
                     "      <td>23791.8</td>\n",
                     "      <td>0.147071</td>\n",
                     "      <td>...</td>\n",
                     "      <td>1.112905</td>\n",
                     "      <td>0.268138</td>\n",
                     "      <td>0.963686</td>\n",
                     "      <td>0.800684</td>\n",
                     "      <td>-1.027695</td>\n",
                     "      <td>-0.017993</td>\n",
                     "      <td>-0.694566</td>\n",
                     "      <td>0.891105</td>\n",
                     "      <td>0.745885</td>\n",
                     "      <td>1.340727</td>\n",
                     "    </tr>\n",
                     "  </tbody>\n",
                     "</table>\n",
                     "<p>5 rows × 96 columns</p>\n",
                     "</div>"
                  ],
                  "text/plain": [
                     "   bid1_price  bid1_size  bid2_price  bid2_size  bid3_price  bid3_size  \\\n",
                     "0     23794.3   0.900828     23792.9   0.018588     23792.8   0.007388   \n",
                     "1     23794.3   0.000878     23793.2   0.014988     23793.1   0.147063   \n",
                     "2     23794.3   0.000878     23793.2   0.014988     23792.8   0.007388   \n",
                     "3     23794.3   0.000878     23793.2   0.014988     23792.8   0.007388   \n",
                     "4     23794.3   0.000878     23793.2   0.014988     23792.8   0.007388   \n",
                     "\n",
                     "   bid4_price  bid4_size  bid5_price  bid5_size  ...   imxd_60   cntp_10  \\\n",
                     "0     23792.1   0.042018     23792.0   0.000300  ...  1.193895  0.268138   \n",
                     "1     23792.8   0.007388     23792.0   0.000300  ...  1.193895  0.268138   \n",
                     "2     23792.0   0.000300     23791.8   0.147071  ...  1.139902  0.268138   \n",
                     "3     23792.0   0.000300     23791.8   0.147071  ...  1.139902  0.268138   \n",
                     "4     23792.0   0.000300     23791.8   0.147071  ...  1.112905  0.268138   \n",
                     "\n",
                     "    cntp_30   cntp_60   cntn_10   cntn_30   cntn_60   cntd_10   cntd_30  \\\n",
                     "0  0.963686  0.800684 -0.418841 -0.017993 -0.189727  0.469470  0.745885   \n",
                     "1  0.963686  0.800684 -1.027695 -0.017993 -0.358007  0.891105  0.745885   \n",
                     "2  1.257798  0.976534 -1.027695 -0.017993 -0.526286  0.891105  0.969180   \n",
                     "3  1.257798  0.800684 -1.027695 -0.017993 -0.526286  0.891105  0.969180   \n",
                     "4  0.963686  0.800684 -1.027695 -0.017993 -0.694566  0.891105  0.745885   \n",
                     "\n",
                     "    cntd_60  \n",
                     "0  0.877378  \n",
                     "1  1.031828  \n",
                     "2  1.340727  \n",
                     "3  1.186278  \n",
                     "4  1.340727  \n",
                     "\n",
                     "[5 rows x 96 columns]"
                  ]
               },
               "execution_count": 6,
               "metadata": {},
               "output_type": "execute_result"
            }
         ],
         "source": [
            "train_environment.df.head()"
         ]
      },
      {
         "cell_type": "markdown",
         "metadata": {},
         "source": [
            "## Step 5: Build Net \n",
            "Update information about the state and action dimension. Create networks and optimizer for Double DQN\n"
         ]
      },
      {
         "cell_type": "code",
         "execution_count": 7,
         "metadata": {},
         "outputs": [],
         "source": [
            "action_dim = train_environment.action_dim\n",
            "state_dim = train_environment.state_dim\n",
            "\n",
            "cfg.act.update(dict(action_dim=action_dim, state_dim=state_dim))\n",
            "act = build_net(cfg.act)\n",
            "act_optimizer = build_optimizer(cfg, default_args=dict(params=act.parameters()))\n",
            "if cfg.cri:\n",
            "    cfg.cri.update(dict(action_dim=action_dim, state_dim=state_dim))\n",
            "    cri = build_net(cfg.cri)\n",
            "    cri_optimizer = build_optimizer(cfg, default_args=dict(params=cri.parameters()))\n",
            "else:\n",
            "    cri = None\n",
            "    cri_optimizer = None"
         ]
      },
      {
         "cell_type": "markdown",
         "metadata": {},
         "source": [
            "## Step 6: Build Loss"
         ]
      },
      {
         "cell_type": "code",
         "execution_count": 8,
         "metadata": {},
         "outputs": [],
         "source": [
            "criterion = build_loss(cfg)"
         ]
      },
      {
         "cell_type": "markdown",
         "metadata": {},
         "source": [
            "## Step 7: Build Agent"
         ]
      },
      {
         "cell_type": "code",
         "execution_count": 9,
         "metadata": {},
         "outputs": [],
         "source": [
            "device = torch.device('cuda' if torch.cuda.is_available() else 'cpu')\n",
            "agent = build_agent(cfg,default_args=dict(action_dim=action_dim,state_dim=state_dim,act=act,cri=cri,act_optimizer=act_optimizer,cri_optimizer=cri_optimizer,criterion=criterion,device=device))\n"
         ]
      },
      {
         "cell_type": "markdown",
         "metadata": {},
         "source": [
            "## Step 8: Build Trainer\n",
            "Build trainer from config and create work directionary to save the result, model and config"
         ]
      },
      {
         "cell_type": "code",
         "execution_count": 10,
         "metadata": {},
         "outputs": [
            {
               "name": "stdout",
               "output_type": "stream",
               "text": [
                  "| Arguments Keep work_dir: /data/sunshuo/qml/TradeMaster/work_dir/high_frequency_trading_BTC_high_frequency_trading_dqn_ddqn_adam_mse\n"
               ]
            }
         ],
         "source": [
            "\n",
            "trainer = build_trainer(cfg, default_args=dict(train_environment=train_environment,valid_environment=valid_environment,test_environment=test_environment,agent=agent,device=device))\n",
            "\n",
            "cfg.dump(osp.join(ROOT, cfg.work_dir, osp.basename(args.config)))"
         ]
      },
      {
         "cell_type": "markdown",
         "metadata": {},
         "source": [
            "## Step 9: RL Agent Training\n",
            "Train the Double DQN agent based on the config and save results in workdir"
         ]
      },
      {
         "cell_type": "code",
         "execution_count": 11,
         "metadata": {},
         "outputs": [
            {
               "name": "stdout",
               "output_type": "stream",
               "text": [
                  "Train Episode: [1/10]\n",
                  "+---------------+--------------+------------+--------------+\n",
                  "| Profit Margin | Sharp Ratio  | Volatility | Max Drawdown |\n",
                  "+---------------+--------------+------------+--------------+\n",
                  "|  -19.710863%  | -2792.392715 | 0.003066%  |  19.713213%  |\n",
                  "+---------------+--------------+------------+--------------+\n",
                  "+---------------+--------------+------------+--------------+\n",
                  "| Profit Margin | Sharp Ratio  | Volatility | Max Drawdown |\n",
                  "+---------------+--------------+------------+--------------+\n",
                  "|  -17.955225%  | -2142.013586 | 0.003603%  |  17.979934%  |\n",
                  "+---------------+--------------+------------+--------------+\n",
                  "Valid Episode: [1/10]\n",
                  "+--------------+------------+--------------+\n",
                  "| Total Return | Volatility | Max Drawdown |\n",
                  "+--------------+------------+--------------+\n",
                  "| -45.740756%  | 0.005121%  |  45.740756%  |\n",
                  "+--------------+------------+--------------+\n",
                  "Train Episode: [2/10]\n",
                  "+---------------+--------------+------------+--------------+\n",
                  "| Profit Margin | Sharp Ratio  | Volatility | Max Drawdown |\n",
                  "+---------------+--------------+------------+--------------+\n",
                  "|  -35.120112%  | -1486.029697 | 0.011352%  |  35.122955%  |\n",
                  "+---------------+--------------+------------+--------------+\n",
                  "+---------------+--------------+------------+--------------+\n",
                  "| Profit Margin | Sharp Ratio  | Volatility | Max Drawdown |\n",
                  "+---------------+--------------+------------+--------------+\n",
                  "|  -24.667449%  | -1787.568819 | 0.006179%  |  24.684778%  |\n",
                  "+---------------+--------------+------------+--------------+\n",
                  "+---------------+--------------+------------+--------------+\n",
                  "| Profit Margin | Sharp Ratio  | Volatility | Max Drawdown |\n",
                  "+---------------+--------------+------------+--------------+\n",
                  "|  -13.269536%  | -1018.163059 | 0.005452%  |  13.269536%  |\n",
                  "+---------------+--------------+------------+--------------+\n",
                  "Valid Episode: [2/10]\n",
                  "+--------------+------------+--------------+\n",
                  "| Total Return | Volatility | Max Drawdown |\n",
                  "+--------------+------------+--------------+\n",
                  "| -13.725643%  | 0.004899%  |  13.823969%  |\n",
                  "+--------------+------------+--------------+\n",
                  "Train Episode: [3/10]\n",
                  "+---------------+-------------+------------+--------------+\n",
                  "| Profit Margin | Sharp Ratio | Volatility | Max Drawdown |\n",
                  "+---------------+-------------+------------+--------------+\n",
                  "|   -7.471570%  | -690.985539 | 0.004382%  |  7.586687%   |\n",
                  "+---------------+-------------+------------+--------------+\n",
                  "+---------------+-------------+------------+--------------+\n",
                  "| Profit Margin | Sharp Ratio | Volatility | Max Drawdown |\n",
                  "+---------------+-------------+------------+--------------+\n",
                  "|   -6.185789%  | -377.008630 | 0.006602%  |  6.185789%   |\n",
                  "+---------------+-------------+------------+--------------+\n",
                  "+---------------+-------------+------------+--------------+\n",
                  "| Profit Margin | Sharp Ratio | Volatility | Max Drawdown |\n",
                  "+---------------+-------------+------------+--------------+\n",
                  "|  -10.658422%  | -993.021710 | 0.004426%  |  10.658422%  |\n",
                  "+---------------+-------------+------------+--------------+\n",
                  "Valid Episode: [3/10]\n",
                  "+--------------+------------+--------------+\n",
                  "| Total Return | Volatility | Max Drawdown |\n",
                  "+--------------+------------+--------------+\n",
                  "| -13.170535%  | 0.005780%  |  13.239935%  |\n",
                  "+--------------+------------+--------------+\n",
                  "Train Episode: [4/10]\n",
                  "+---------------+-------------+------------+--------------+\n",
                  "| Profit Margin | Sharp Ratio | Volatility | Max Drawdown |\n",
                  "+---------------+-------------+------------+--------------+\n",
                  "|   -4.590676%  | -275.820456 | 0.006640%  |  5.162691%   |\n",
                  "+---------------+-------------+------------+--------------+\n",
                  "+---------------+-------------+------------+--------------+\n",
                  "| Profit Margin | Sharp Ratio | Volatility | Max Drawdown |\n",
                  "+---------------+-------------+------------+--------------+\n",
                  "|   -7.181079%  | -597.487064 | 0.004863%  |  7.347568%   |\n",
                  "+---------------+-------------+------------+--------------+\n",
                  "+---------------+-------------+------------+--------------+\n",
                  "| Profit Margin | Sharp Ratio | Volatility | Max Drawdown |\n",
                  "+---------------+-------------+------------+--------------+\n",
                  "|   -4.068303%  | -187.355544 | 0.008635%  |  4.444695%   |\n",
                  "+---------------+-------------+------------+--------------+\n",
                  "Valid Episode: [4/10]\n",
                  "+--------------+------------+--------------+\n",
                  "| Total Return | Volatility | Max Drawdown |\n",
                  "+--------------+------------+--------------+\n",
                  "|  -1.372845%  | 0.004237%  |  1.707928%   |\n",
                  "+--------------+------------+--------------+\n",
                  "Train Episode: [5/10]\n",
                  "+---------------+-------------+------------+--------------+\n",
                  "| Profit Margin | Sharp Ratio | Volatility | Max Drawdown |\n",
                  "+---------------+-------------+------------+--------------+\n",
                  "|   -6.072037%  | -600.602516 | 0.004067%  |  6.072037%   |\n",
                  "+---------------+-------------+------------+--------------+\n",
                  "+---------------+-------------+------------+--------------+\n",
                  "| Profit Margin | Sharp Ratio | Volatility | Max Drawdown |\n",
                  "+---------------+-------------+------------+--------------+\n",
                  "|   -4.561090%  | -308.007296 | 0.005908%  |  4.581023%   |\n",
                  "+---------------+-------------+------------+--------------+\n",
                  "+---------------+-------------+------------+--------------+\n",
                  "| Profit Margin | Sharp Ratio | Volatility | Max Drawdown |\n",
                  "+---------------+-------------+------------+--------------+\n",
                  "|   -2.709532%  | -187.849450 | 0.005698%  |  2.876131%   |\n",
                  "+---------------+-------------+------------+--------------+\n",
                  "Valid Episode: [5/10]\n",
                  "+--------------+------------+--------------+\n",
                  "| Total Return | Volatility | Max Drawdown |\n",
                  "+--------------+------------+--------------+\n",
                  "|  -3.582360%  | 0.005009%  |  3.753655%   |\n",
                  "+--------------+------------+--------------+\n",
                  "Train Episode: [6/10]\n",
                  "+---------------+-------------+------------+--------------+\n",
                  "| Profit Margin | Sharp Ratio | Volatility | Max Drawdown |\n",
                  "+---------------+-------------+------------+--------------+\n",
                  "|   -2.591166%  | -172.978546 | 0.005913%  |  2.626120%   |\n",
                  "+---------------+-------------+------------+--------------+\n",
                  "+---------------+-------------+------------+--------------+\n",
                  "| Profit Margin | Sharp Ratio | Volatility | Max Drawdown |\n",
                  "+---------------+-------------+------------+--------------+\n",
                  "|   -7.150399%  | -531.340272 | 0.005444%  |  7.183021%   |\n",
                  "+---------------+-------------+------------+--------------+\n",
                  "+---------------+-------------+------------+--------------+\n",
                  "| Profit Margin | Sharp Ratio | Volatility | Max Drawdown |\n",
                  "+---------------+-------------+------------+--------------+\n",
                  "|   -2.927376%  | -129.170595 | 0.008953%  |  4.023119%   |\n",
                  "+---------------+-------------+------------+--------------+\n",
                  "Valid Episode: [6/10]\n",
                  "+--------------+------------+--------------+\n",
                  "| Total Return | Volatility | Max Drawdown |\n",
                  "+--------------+------------+--------------+\n",
                  "|  -3.579781%  | 0.005222%  |  3.754136%   |\n",
                  "+--------------+------------+--------------+\n",
                  "Train Episode: [7/10]\n",
                  "+---------------+-------------+------------+--------------+\n",
                  "| Profit Margin | Sharp Ratio | Volatility | Max Drawdown |\n",
                  "+---------------+-------------+------------+--------------+\n",
                  "|   -4.947693%  | -552.255063 | 0.003583%  |  4.947693%   |\n",
                  "+---------------+-------------+------------+--------------+\n",
                  "+---------------+-------------+------------+--------------+\n",
                  "| Profit Margin | Sharp Ratio | Volatility | Max Drawdown |\n",
                  "+---------------+-------------+------------+--------------+\n",
                  "|   -7.518199%  | -659.789915 | 0.004619%  |  7.524365%   |\n",
                  "+---------------+-------------+------------+--------------+\n",
                  "+---------------+-------------+------------+--------------+\n",
                  "| Profit Margin | Sharp Ratio | Volatility | Max Drawdown |\n",
                  "+---------------+-------------+------------+--------------+\n",
                  "|   -6.773942%  | -735.281479 | 0.003720%  |  6.777264%   |\n",
                  "+---------------+-------------+------------+--------------+\n",
                  "Valid Episode: [7/10]\n",
                  "+--------------+------------+--------------+\n",
                  "| Total Return | Volatility | Max Drawdown |\n",
                  "+--------------+------------+--------------+\n",
                  "|  -4.735105%  | 0.005104%  |  4.910317%   |\n",
                  "+--------------+------------+--------------+\n",
                  "Train Episode: [8/10]\n",
                  "+---------------+-------------+------------+--------------+\n",
                  "| Profit Margin | Sharp Ratio | Volatility | Max Drawdown |\n",
                  "+---------------+-------------+------------+--------------+\n",
                  "|   -3.684426%  | -226.730691 | 0.006452%  |  3.740554%   |\n",
                  "+---------------+-------------+------------+--------------+\n",
                  "+---------------+-------------+------------+--------------+\n",
                  "| Profit Margin | Sharp Ratio | Volatility | Max Drawdown |\n",
                  "+---------------+-------------+------------+--------------+\n",
                  "|   -3.177255%  | -192.320172 | 0.006541%  |  3.241641%   |\n",
                  "+---------------+-------------+------------+--------------+\n",
                  "+---------------+-------------+------------+--------------+\n",
                  "| Profit Margin | Sharp Ratio | Volatility | Max Drawdown |\n",
                  "+---------------+-------------+------------+--------------+\n",
                  "|   -3.446168%  | -217.534943 | 0.006282%  |  3.461580%   |\n",
                  "+---------------+-------------+------------+--------------+\n",
                  "Valid Episode: [8/10]\n",
                  "+--------------+------------+--------------+\n",
                  "| Total Return | Volatility | Max Drawdown |\n",
                  "+--------------+------------+--------------+\n",
                  "|  -5.751130%  | 0.005604%  |  5.920226%   |\n",
                  "+--------------+------------+--------------+\n",
                  "Train Episode: [9/10]\n",
                  "+---------------+-------------+------------+--------------+\n",
                  "| Profit Margin | Sharp Ratio | Volatility | Max Drawdown |\n",
                  "+---------------+-------------+------------+--------------+\n",
                  "|   -3.937763%  | -173.505094 | 0.009017%  |  4.554533%   |\n",
                  "+---------------+-------------+------------+--------------+\n",
                  "+---------------+-------------+------------+--------------+\n",
                  "| Profit Margin | Sharp Ratio | Volatility | Max Drawdown |\n",
                  "+---------------+-------------+------------+--------------+\n",
                  "|   -3.535627%  | -226.197034 | 0.006202%  |  3.581861%   |\n",
                  "+---------------+-------------+------------+--------------+\n",
                  "+---------------+-------------+------------+--------------+\n",
                  "| Profit Margin | Sharp Ratio | Volatility | Max Drawdown |\n",
                  "+---------------+-------------+------------+--------------+\n",
                  "|   -7.156700%  | -483.521282 | 0.005987%  |  7.177333%   |\n",
                  "+---------------+-------------+------------+--------------+\n",
                  "Valid Episode: [9/10]\n",
                  "+--------------+------------+--------------+\n",
                  "| Total Return | Volatility | Max Drawdown |\n",
                  "+--------------+------------+--------------+\n",
                  "|  -3.991204%  | 0.005238%  |  4.144199%   |\n",
                  "+--------------+------------+--------------+\n",
                  "Train Episode: [10/10]\n",
                  "+---------------+-------------+------------+--------------+\n",
                  "| Profit Margin | Sharp Ratio | Volatility | Max Drawdown |\n",
                  "+---------------+-------------+------------+--------------+\n",
                  "|   -7.438490%  | -454.212161 | 0.006634%  |  7.552669%   |\n",
                  "+---------------+-------------+------------+--------------+\n",
                  "+---------------+-------------+------------+--------------+\n",
                  "| Profit Margin | Sharp Ratio | Volatility | Max Drawdown |\n",
                  "+---------------+-------------+------------+--------------+\n",
                  "|   -4.530511%  | -186.735150 | 0.009669%  |  4.530511%   |\n",
                  "+---------------+-------------+------------+--------------+\n",
                  "+---------------+-------------+------------+--------------+\n",
                  "| Profit Margin | Sharp Ratio | Volatility | Max Drawdown |\n",
                  "+---------------+-------------+------------+--------------+\n",
                  "|   -7.979081%  | -786.848392 | 0.004121%  |  7.979081%   |\n",
                  "+---------------+-------------+------------+--------------+\n",
                  "Valid Episode: [10/10]\n",
                  "+--------------+------------+--------------+\n",
                  "| Total Return | Volatility | Max Drawdown |\n",
                  "+--------------+------------+--------------+\n",
                  "|  -6.387074%  | 0.005365%  |  6.527131%   |\n",
                  "+--------------+------------+--------------+\n"
               ]
            }
         ],
         "source": [
            "trainer.train_and_valid()"
         ]
      },
      {
         "cell_type": "markdown",
         "metadata": {},
         "source": [
            "## Step 10: RL Agent Testing"
         ]
      },
      {
         "cell_type": "code",
         "execution_count": 12,
         "metadata": {
            "pycharm": {
               "name": "#%%\n"
            }
         },
         "outputs": [
            {
               "name": "stdout",
               "output_type": "stream",
               "text": [
                  "Resume checkpoint /data/sunshuo/qml/TradeMaster/work_dir/high_frequency_trading_BTC_high_frequency_trading_dqn_ddqn_adam_mse/checkpoints/best.pth\n",
                  "Test Best Episode\n",
                  "+--------------+------------+--------------+\n",
                  "| Total Return | Volatility | Max Drawdown |\n",
                  "+--------------+------------+--------------+\n",
                  "|  0.479027%   | 0.009575%  |  0.570660%   |\n",
                  "+--------------+------------+--------------+\n"
               ]
            }
         ],
         "source": [
            "trainer.test();"
         ]
      },
      {
         "cell_type": "code",
         "execution_count": 13,
         "metadata": {},
         "outputs": [
            {
               "data": {
                  "image/png": "[encoded data removed]",
                  "text/plain": [
                     "<Figure size 432x288 with 1 Axes>"
                  ]
               },
               "metadata": {
                  "needs_background": "light"
               },
               "output_type": "display_data"
            }
         ],
         "source": [
            "plot(trainer.test_environment.save_asset_memoey(),alg=\"DDQN\")"
         ]
      }
   ],
   "metadata": {
      "kernelspec": {
         "display_name": "Python 3 (ipykernel)",
         "language": "python",
         "name": "python3"
      },
      "language_info": {
         "codemirror_mode": {
            "name": "ipython",
            "version": 3
         },
         "file_extension": ".py",
         "mimetype": "text/x-python",
         "name": "python",
         "nbconvert_exporter": "python",
         "pygments_lexer": "ipython3",
         "version": "3.9.18"
      },
      "vscode": {
         "interpreter": {
            "hash": "a1f97403911abd3f02553c8f2b0c54537fddc7efadd9f5d3e31784db6e40c347"
         }
      }
   },
   "nbformat": 4,
   "nbformat_minor": 2
}
