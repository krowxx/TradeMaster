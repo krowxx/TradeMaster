{
  "cells": [
    {
      "cell_type": "markdown",
      "metadata": {
        "id": "95XaaOViDi8T"
      },
      "source": [
        "# Tutorial 8\n",
        "We show how to train a profitable RL agent on portfolio managemnt with EIIE algorithm on US stock market  with more technical indicators."
      ]
    },
    {
      "cell_type": "code",
      "execution_count": null,
      "metadata": {
        "colab": {
          "base_uri": "https://localhost:8080/"
        },
        "id": "o0b63qXuD0xM",
        "outputId": "4d1c09c8-4f0a-4ac3-c253-2d04becd3b74"
      },
      "outputs": [
        {
          "name": "stdout",
          "output_type": "stream",
          "text": [
            "Cloning into 'TradeMaster'...\n",
            "remote: Enumerating objects: 6371, done.\u001b[K\n",
            "remote: Counting objects: 100% (1591/1591), done.\u001b[K\n",
            "remote: Compressing objects: 100% (604/604), done.\u001b[K\n",
            "remote: Total 6371 (delta 1017), reused 1531 (delta 972), pack-reused 4780\u001b[K\n",
            "Receiving objects: 100% (6371/6371), 383.15 MiB | 27.22 MiB/s, done.\n",
            "Resolving deltas: 100% (3233/3233), done.\n",
            "Updating files: 100% (392/392), done.\n"
          ]
        }
      ],
      "source": [
        "!git clone -b 1.0.0 https://github.com/TradeMaster-NTU/TradeMaster.git"
      ]
    },
    {
      "cell_type": "code",
      "execution_count": null,
      "metadata": {
        "colab": {
          "base_uri": "https://localhost:8080/"
        },
        "id": "XbtyyioQi5dp",
        "outputId": "983fa137-0022-44a2-9d9e-53ce21973f36"
      },
      "outputs": [
        {
          "name": "stdout",
          "output_type": "stream",
          "text": [
            "/content/TradeMaster\n"
          ]
        }
      ],
      "source": [
        "%cd '/content/TradeMaster'"
      ]
    },
    {
      "cell_type": "code",
      "execution_count": null,
      "metadata": {
        "id": "kDoplAGzD5xA"
      },
      "outputs": [],
      "source": [
        "!pip install -r requirements.txt"
      ]
    },
    {
      "cell_type": "markdown",
      "metadata": {
        "id": "CDDUgb6GDi8U"
      },
      "source": [
        "## Step 1: Import Packages\n",
        "Modify the system path and load the corresponding packages and functions"
      ]
    },
    {
      "cell_type": "code",
      "execution_count": null,
      "metadata": {
        "id": "AmNaofDgDi8V"
      },
      "outputs": [],
      "source": [
        "import os\n",
        "import sys\n",
        "from pathlib import Path\n",
        "import warnings\n",
        "warnings.filterwarnings(\"ignore\")\n",
        "ROOT = '/content/TradeMaster'\n",
        "sys.path.append(ROOT)\n",
        "import torch\n",
        "import argparse\n",
        "import os.path as osp\n",
        "from mmcv import Config\n",
        "from trademaster.utils import replace_cfg_vals\n",
        "from trademaster.nets.builder import build_net\n",
        "from trademaster.environments.builder import build_environment\n",
        "from trademaster.datasets.builder import build_dataset\n",
        "from trademaster.agents.builder import build_agent\n",
        "from trademaster.optimizers.builder import build_optimizer\n",
        "from trademaster.losses.builder import build_loss\n",
        "from trademaster.trainers.builder import build_trainer\n",
        "from trademaster.transition.builder import build_transition\n",
        "from trademaster.utils import plot\n",
        "from trademaster.utils import set_seed\n",
        "import pandas as pd\n",
        "set_seed(2023)"
      ]
    },
    {
      "cell_type": "markdown",
      "metadata": {
        "id": "Zu78Rl3zDi8W"
      },
      "source": [
        "## Step 2.1: Load Configs\n",
        "Load default config from the file `configs/portfolio_management/portfolio_management_dj30_eiie_eiie_adam_mse.py`"
      ]
    },
    {
      "cell_type": "code",
      "execution_count": null,
      "metadata": {
        "id": "3IN1YVNIDi8W"
      },
      "outputs": [],
      "source": [
        "parser = argparse.ArgumentParser(description='Download Alpaca Datasets')\n",
        "parser.add_argument(\"--config\", default=osp.join(ROOT, \"configs\", \"portfolio_management\", \"portfolio_management_dj30_eiie_eiie_adam_mse.py\"),\n",
        "                    help=\"download datasets config file path\")\n",
        "parser.add_argument(\"--task_name\", type=str, default=\"train\")\n",
        "\n",
        "args, _= parser.parse_known_args()\n",
        "cfg = Config.fromfile(args.config)\n",
        "task_name = args.task_name\n",
        "cfg = replace_cfg_vals(cfg)\n"
      ]
    },
    {
      "cell_type": "markdown",
      "metadata": {
        "id": "7-9_a8WJ7J6z"
      },
      "source": [
        "Below is an overview of the original dataset before the technical indicators were generated."
      ]
    },
    {
      "cell_type": "code",
      "execution_count": null,
      "metadata": {
        "colab": {
          "base_uri": "https://localhost:8080/"
        },
        "id": "VmJebWL264yc",
        "outputId": "0a8c1780-8e44-449e-f03b-8055011d70e2"
      },
      "outputs": [
        {
          "data": {
            "text/plain": [
              "{'type': 'PortfolioManagementDataset',\n",
              " 'data_path': 'data/portfolio_management/dj30',\n",
              " 'train_path': 'data/portfolio_management/dj30/train.csv',\n",
              " 'valid_path': 'data/portfolio_management/dj30/valid.csv',\n",
              " 'test_path': 'data/portfolio_management/dj30/test.csv',\n",
              " 'tech_indicator_list': ['zopen',\n",
              "  'zhigh',\n",
              "  'zlow',\n",
              "  'zadjcp',\n",
              "  'zclose',\n",
              "  'zd_5',\n",
              "  'zd_10',\n",
              "  'zd_15',\n",
              "  'zd_20',\n",
              "  'zd_25',\n",
              "  'zd_30'],\n",
              " 'length_day': 10,\n",
              " 'initial_amount': 100000,\n",
              " 'transaction_cost_pct': 0.001,\n",
              " 'test_dynamic_path': 'data/portfolio_management/dj30/test_with_label.csv'}"
            ]
          },
          "execution_count": 83,
          "metadata": {},
          "output_type": "execute_result"
        }
      ],
      "source": [
        "cfg[\"data\"]"
      ]
    },
    {
      "cell_type": "markdown",
      "metadata": {
        "id": "tFD-NGeu7fsL"
      },
      "source": [
        "## Step 2.2: Download data from Yahoo Finance then Generate new technical indicators"
      ]
    },
    {
      "cell_type": "markdown",
      "metadata": {
        "id": "fpq8e9UtUJZX"
      },
      "source": [
        "First modify the `indicator` in `configs/data_preprocessor/yahoofinance/dj30.py`. When `indicator='alpha158'`, this means that all technical indicators are generated. When `indicator='alpha158_novolume'`, this means generating volume-independent technical indicators. When `indicator='basic'`, it means that only the simplest technical indicators shown above are generated."
      ]
    },
    {
      "cell_type": "markdown",
      "metadata": {
        "id": "l27aoqBK7AmN"
      },
      "source": [
        "Run the following Python program to download data from Yahoo Finance and generate new technical indicators. In this case, we are downloading the DJ30 dataset and generating the volume-independent Alpha158 technical indicator, which includes the following: 'KMID', 'KLEN', 'KMID2', 'KUP', 'KUP2', 'KLOW', 'KLOW2', 'KSFT', 'KSFT2', 'OPEN', 'HIGH', 'LOW', 'CLOSE', 'ROC', 'MA', 'STD', 'BETA', 'MAX', 'MIN', 'QTLU', 'QTLD', 'RANK', 'RSV', 'IMAX', 'IMIN', 'IMXD', 'CORR', 'CORD', 'CNTP', 'CNTN', 'CNTD', 'SUMP', 'SUMN', 'SUMD', 'VMA', 'VSTD', 'WVMA', 'VSUMP', 'VSUMN', 'VSUMD'.\n",
        "\n",
        "This step will take approximately 5 minutes.\n",
        "\n",
        "\n",
        "\n"
      ]
    },
    {
      "cell_type": "code",
      "execution_count": null,
      "metadata": {
        "colab": {
          "base_uri": "https://localhost:8080/"
        },
        "id": "KcfepMSB6-Hi",
        "outputId": "50a5eaf8-e24b-4182-8960-c3c5007852bd"
      },
      "outputs": [
        {
          "name": "stdout",
          "output_type": "stream",
          "text": [
            "[*********************100%***********************]  1 of 1 completed\n",
            "[*********************100%***********************]  1 of 1 completed\n",
            "[*********************100%***********************]  1 of 1 completed\n",
            "[*********************100%***********************]  1 of 1 completed\n",
            "[*********************100%***********************]  1 of 1 completed\n",
            "[*********************100%***********************]  1 of 1 completed\n",
            "[*********************100%***********************]  1 of 1 completed\n",
            "[*********************100%***********************]  1 of 1 completed\n",
            "[*********************100%***********************]  1 of 1 completed\n",
            "[*********************100%***********************]  1 of 1 completed\n",
            "[*********************100%***********************]  1 of 1 completed\n",
            "[*********************100%***********************]  1 of 1 completed\n",
            "[*********************100%***********************]  1 of 1 completed\n",
            "[*********************100%***********************]  1 of 1 completed\n",
            "[*********************100%***********************]  1 of 1 completed\n",
            "[*********************100%***********************]  1 of 1 completed\n",
            "[*********************100%***********************]  1 of 1 completed\n",
            "[*********************100%***********************]  1 of 1 completed\n",
            "[*********************100%***********************]  1 of 1 completed\n",
            "[*********************100%***********************]  1 of 1 completed\n",
            "[*********************100%***********************]  1 of 1 completed\n",
            "[*********************100%***********************]  1 of 1 completed\n",
            "[*********************100%***********************]  1 of 1 completed\n",
            "[*********************100%***********************]  1 of 1 completed\n",
            "[*********************100%***********************]  1 of 1 completed\n",
            "[*********************100%***********************]  1 of 1 completed\n",
            "[*********************100%***********************]  1 of 1 completed\n",
            "[*********************100%***********************]  1 of 1 completed\n",
            "[*********************100%***********************]  1 of 1 completed\n",
            "[*********************100%***********************]  1 of 1 completed\n",
            "[*********************100%***********************]  1 of 1 completed\n",
            "[*********************100%***********************]  1 of 1 completed\n",
            "[*********************100%***********************]  1 of 1 completed\n",
            "[*********************100%***********************]  1 of 1 completed\n",
            "[*********************100%***********************]  1 of 1 completed\n",
            "[*********************100%***********************]  1 of 1 completed\n",
            "[*********************100%***********************]  1 of 1 completed\n",
            "[*********************100%***********************]  1 of 1 completed\n",
            "[*********************100%***********************]  1 of 1 completed\n",
            "[*********************100%***********************]  1 of 1 completed\n",
            "[*********************100%***********************]  1 of 1 completed\n",
            "[*********************100%***********************]  1 of 1 completed\n",
            "[*********************100%***********************]  1 of 1 completed\n",
            "[*********************100%***********************]  1 of 1 completed\n",
            "[*********************100%***********************]  1 of 1 completed\n",
            "[*********************100%***********************]  1 of 1 completed\n",
            "[*********************100%***********************]  1 of 1 completed\n",
            "[*********************100%***********************]  1 of 1 completed\n",
            "[*********************100%***********************]  1 of 1 completed\n",
            "[*********************100%***********************]  1 of 1 completed\n",
            "[*********************100%***********************]  1 of 1 completed\n",
            "[*********************100%***********************]  1 of 1 completed\n",
            "[*********************100%***********************]  1 of 1 completed\n",
            "[*********************100%***********************]  1 of 1 completed\n",
            "[*********************100%***********************]  1 of 1 completed\n",
            "[*********************100%***********************]  1 of 1 completed\n",
            "[*********************100%***********************]  1 of 1 completed\n",
            "[*********************100%***********************]  1 of 1 completed\n",
            "[*********************100%***********************]  1 of 1 completed\n",
            "[*********************100%***********************]  1 of 1 completed\n",
            "100% 4779/4779 [00:03<00:00, 1399.60it/s]\n"
          ]
        }
      ],
      "source": [
        "!python /content/TradeMaster/tools/data_preprocessor/yahoofinance/dj30.py"
      ]
    },
    {
      "cell_type": "markdown",
      "metadata": {
        "id": "HEimgw2m6pnv"
      },
      "source": [
        "As new files have been generated, the paths for the training, validation, and test sets need to be updated in the config file. "
      ]
    },
    {
      "cell_type": "code",
      "execution_count": null,
      "metadata": {
        "id": "a95QIDpvyU-d"
      },
      "outputs": [],
      "source": [
        "cfg[\"data\"]['train_path']='workdir/dj30/train.csv'\n",
        "cfg[\"data\"]['valid_path']='workdir/dj30/valid.csv'\n",
        "cfg[\"data\"]['test_path']='workdir/dj30/test.csv'"
      ]
    },
    {
      "cell_type": "markdown",
      "metadata": {
        "id": "_V_fWa_z6vmz"
      },
      "source": [
        "Additionally, since the number of indicators has increased, a new list of technical indicators needs to be exported based on the newly generated files."
      ]
    },
    {
      "cell_type": "code",
      "execution_count": null,
      "metadata": {
        "id": "7M99pKvT1I6G"
      },
      "outputs": [],
      "source": [
        "cols_to_drop = ['Unnamed: 0',\n",
        "          'open',\n",
        "          'high',\n",
        "          'low',\n",
        "          'close',\n",
        "          'adjclose',\n",
        "          'volume',\n",
        "          'tic',\n",
        "          'date',]\n",
        "get_indicator_list = pd.read_csv('workdir/dj30/train.csv')\n",
        "get_indicator_list = get_indicator_list.drop(labels=cols_to_drop, axis=1)\n",
        "cfg[\"data\"]['tech_indicator_list']=get_indicator_list.columns.tolist()"
      ]
    },
    {
      "cell_type": "markdown",
      "metadata": {
        "id": "LEfUsuGi8wuS"
      },
      "source": [
        "Now you can see the new dataset paths and the expanded list of technical indicators."
      ]
    },
    {
      "cell_type": "code",
      "execution_count": null,
      "metadata": {
        "colab": {
          "base_uri": "https://localhost:8080/"
        },
        "id": "KCnI4i_7HtW8",
        "outputId": "b62b1c6b-5958-4318-e52c-9803b65030d1"
      },
      "outputs": [
        {
          "data": {
            "text/plain": [
              "{'type': 'PortfolioManagementDataset',\n",
              " 'data_path': 'data/portfolio_management/dj30',\n",
              " 'train_path': 'workdir/dj30/train.csv',\n",
              " 'valid_path': 'workdir/dj30/valid.csv',\n",
              " 'test_path': 'workdir/dj30/test.csv',\n",
              " 'tech_indicator_list': ['zopen',\n",
              "  'zhigh',\n",
              "  'zlow',\n",
              "  'zadjcp',\n",
              "  'zclose',\n",
              "  'zd_5',\n",
              "  'zd_10',\n",
              "  'zd_15',\n",
              "  'zd_20',\n",
              "  'zd_25',\n",
              "  'zd_30',\n",
              "  'zd_60',\n",
              "  'KMID',\n",
              "  'KLEN',\n",
              "  'KMID2',\n",
              "  'KUP',\n",
              "  'KUP2',\n",
              "  'KLOW',\n",
              "  'KLOW2',\n",
              "  'KSFT',\n",
              "  'KSFT2',\n",
              "  'ROC5',\n",
              "  'MA5',\n",
              "  'STD5',\n",
              "  'BETA5',\n",
              "  'RSQR5',\n",
              "  'MAX5',\n",
              "  'MIN5',\n",
              "  'QTLU5',\n",
              "  'QTLD5',\n",
              "  'RANK5',\n",
              "  'RSV5',\n",
              "  'IMAX5',\n",
              "  'IMIN5',\n",
              "  'IMXD5',\n",
              "  'CNTP5',\n",
              "  'CNTN5',\n",
              "  'CNTD5',\n",
              "  'SUMP5',\n",
              "  'SUMN5',\n",
              "  'SUMD5',\n",
              "  'ROC10',\n",
              "  'MA10',\n",
              "  'STD10',\n",
              "  'BETA10',\n",
              "  'RSQR10',\n",
              "  'MAX10',\n",
              "  'MIN10',\n",
              "  'QTLU10',\n",
              "  'QTLD10',\n",
              "  'RANK10',\n",
              "  'RSV10',\n",
              "  'IMAX10',\n",
              "  'IMIN10',\n",
              "  'IMXD10',\n",
              "  'CNTP10',\n",
              "  'CNTN10',\n",
              "  'CNTD10',\n",
              "  'SUMP10',\n",
              "  'SUMN10',\n",
              "  'SUMD10',\n",
              "  'ROC20',\n",
              "  'MA20',\n",
              "  'STD20',\n",
              "  'BETA20',\n",
              "  'RSQR20',\n",
              "  'MAX20',\n",
              "  'MIN20',\n",
              "  'QTLU20',\n",
              "  'QTLD20',\n",
              "  'RANK20',\n",
              "  'RSV20',\n",
              "  'IMAX20',\n",
              "  'IMIN20',\n",
              "  'IMXD20',\n",
              "  'CNTP20',\n",
              "  'CNTN20',\n",
              "  'CNTD20',\n",
              "  'SUMP20',\n",
              "  'SUMN20',\n",
              "  'SUMD20',\n",
              "  'ROC30',\n",
              "  'MA30',\n",
              "  'STD30',\n",
              "  'BETA30',\n",
              "  'RSQR30',\n",
              "  'MAX30',\n",
              "  'MIN30',\n",
              "  'QTLU30',\n",
              "  'QTLD30',\n",
              "  'RANK30',\n",
              "  'RSV30',\n",
              "  'IMAX30',\n",
              "  'IMIN30',\n",
              "  'IMXD30',\n",
              "  'CNTP30',\n",
              "  'CNTN30',\n",
              "  'CNTD30',\n",
              "  'SUMP30',\n",
              "  'SUMN30',\n",
              "  'SUMD30',\n",
              "  'ROC60',\n",
              "  'MA60',\n",
              "  'STD60',\n",
              "  'BETA60',\n",
              "  'RSQR60',\n",
              "  'MAX60',\n",
              "  'MIN60',\n",
              "  'QTLU60',\n",
              "  'QTLD60',\n",
              "  'RANK60',\n",
              "  'RSV60',\n",
              "  'IMAX60',\n",
              "  'IMIN60',\n",
              "  'IMXD60',\n",
              "  'CNTP60',\n",
              "  'CNTN60',\n",
              "  'CNTD60',\n",
              "  'SUMP60',\n",
              "  'SUMN60',\n",
              "  'SUMD60'],\n",
              " 'length_day': 10,\n",
              " 'initial_amount': 100000,\n",
              " 'transaction_cost_pct': 0.001,\n",
              " 'test_dynamic_path': 'data/portfolio_management/dj30/test_with_label.csv'}"
            ]
          },
          "execution_count": 88,
          "metadata": {},
          "output_type": "execute_result"
        }
      ],
      "source": [
        "cfg[\"data\"]"
      ]
    },
    {
      "cell_type": "markdown",
      "metadata": {
        "id": "xNP4WBN8Di8X"
      },
      "source": [
        "## Step 3: Build Dataset"
      ]
    },
    {
      "cell_type": "code",
      "execution_count": null,
      "metadata": {
        "id": "Ty6sEP3dDi8X"
      },
      "outputs": [],
      "source": [
        "dataset = build_dataset(cfg)"
      ]
    },
    {
      "cell_type": "markdown",
      "metadata": {
        "id": "qOGwsjg0Di8X"
      },
      "source": [
        "## Step 4: Build Reinforcement Learning Environments"
      ]
    },
    {
      "cell_type": "code",
      "execution_count": null,
      "metadata": {
        "id": "08N88oUsDi8X"
      },
      "outputs": [],
      "source": [
        "train_environment = build_environment(cfg, default_args=dict(dataset=dataset, task=\"train\"))\n",
        "valid_environment = build_environment(cfg, default_args=dict(dataset=dataset, task=\"valid\"))\n",
        "test_environment = build_environment(cfg, default_args=dict(dataset=dataset, task=\"test\"))"
      ]
    },
    {
      "cell_type": "code",
      "execution_count": null,
      "metadata": {
        "colab": {
          "base_uri": "https://localhost:8080/",
          "height": 386
        },
        "id": "4tJtNgnuDi8Y",
        "outputId": "c7c200c9-b967-4c73-c2bf-6f45d87d5431"
      },
      "outputs": [
        {
          "data": {
            "text/html": [
              "\n",
              "  <div id=\"df-cb0bd64e-6f13-4134-8a1e-55569dce53db\">\n",
              "    <div class=\"colab-df-container\">\n",
              "      <div>\n",
              "<style scoped>\n",
              "    .dataframe tbody tr th:only-of-type {\n",
              "        vertical-align: middle;\n",
              "    }\n",
              "\n",
              "    .dataframe tbody tr th {\n",
              "        vertical-align: top;\n",
              "    }\n",
              "\n",
              "    .dataframe thead th {\n",
              "        text-align: right;\n",
              "    }\n",
              "</style>\n",
              "<table border=\"1\" class=\"dataframe\">\n",
              "  <thead>\n",
              "    <tr style=\"text-align: right;\">\n",
              "      <th></th>\n",
              "      <th>open</th>\n",
              "      <th>high</th>\n",
              "      <th>low</th>\n",
              "      <th>close</th>\n",
              "      <th>adjclose</th>\n",
              "      <th>volume</th>\n",
              "      <th>tic</th>\n",
              "      <th>date</th>\n",
              "      <th>zopen</th>\n",
              "      <th>zhigh</th>\n",
              "      <th>...</th>\n",
              "      <th>RSV60</th>\n",
              "      <th>IMAX60</th>\n",
              "      <th>IMIN60</th>\n",
              "      <th>IMXD60</th>\n",
              "      <th>CNTP60</th>\n",
              "      <th>CNTN60</th>\n",
              "      <th>CNTD60</th>\n",
              "      <th>SUMP60</th>\n",
              "      <th>SUMN60</th>\n",
              "      <th>SUMD60</th>\n",
              "    </tr>\n",
              "  </thead>\n",
              "  <tbody>\n",
              "    <tr>\n",
              "      <th>0</th>\n",
              "      <td>0.936384</td>\n",
              "      <td>1.004464</td>\n",
              "      <td>0.907924</td>\n",
              "      <td>0.999442</td>\n",
              "      <td>0.850644</td>\n",
              "      <td>535796800</td>\n",
              "      <td>AAPL</td>\n",
              "      <td>2000-01-03</td>\n",
              "      <td>-0.063093</td>\n",
              "      <td>0.005025</td>\n",
              "      <td>...</td>\n",
              "      <td>1.502317</td>\n",
              "      <td>0.933333</td>\n",
              "      <td>0.933333</td>\n",
              "      <td>0.000000</td>\n",
              "      <td>0.516667</td>\n",
              "      <td>0.466667</td>\n",
              "      <td>0.050000</td>\n",
              "      <td>0.558062</td>\n",
              "      <td>0.441938</td>\n",
              "      <td>0.116124</td>\n",
              "    </tr>\n",
              "    <tr>\n",
              "      <th>0</th>\n",
              "      <td>47.995617</td>\n",
              "      <td>47.995617</td>\n",
              "      <td>45.515598</td>\n",
              "      <td>45.880306</td>\n",
              "      <td>33.436111</td>\n",
              "      <td>6471267</td>\n",
              "      <td>AXP</td>\n",
              "      <td>2000-01-03</td>\n",
              "      <td>0.046105</td>\n",
              "      <td>0.046105</td>\n",
              "      <td>...</td>\n",
              "      <td>74.835474</td>\n",
              "      <td>0.000000</td>\n",
              "      <td>0.000000</td>\n",
              "      <td>0.000000</td>\n",
              "      <td>0.400000</td>\n",
              "      <td>0.600000</td>\n",
              "      <td>-0.200000</td>\n",
              "      <td>0.355306</td>\n",
              "      <td>0.644694</td>\n",
              "      <td>-0.289388</td>\n",
              "    </tr>\n",
              "    <tr>\n",
              "      <th>0</th>\n",
              "      <td>41.437500</td>\n",
              "      <td>41.687500</td>\n",
              "      <td>39.812500</td>\n",
              "      <td>40.187500</td>\n",
              "      <td>25.940277</td>\n",
              "      <td>2638200</td>\n",
              "      <td>BA</td>\n",
              "      <td>2000-01-03</td>\n",
              "      <td>0.031104</td>\n",
              "      <td>0.037325</td>\n",
              "      <td>...</td>\n",
              "      <td>384.626019</td>\n",
              "      <td>0.683333</td>\n",
              "      <td>0.683333</td>\n",
              "      <td>0.000000</td>\n",
              "      <td>0.400000</td>\n",
              "      <td>0.600000</td>\n",
              "      <td>-0.200000</td>\n",
              "      <td>0.429893</td>\n",
              "      <td>0.570107</td>\n",
              "      <td>-0.140213</td>\n",
              "    </tr>\n",
              "    <tr>\n",
              "      <th>0</th>\n",
              "      <td>23.843750</td>\n",
              "      <td>24.500000</td>\n",
              "      <td>23.843750</td>\n",
              "      <td>24.312500</td>\n",
              "      <td>13.171329</td>\n",
              "      <td>5055000</td>\n",
              "      <td>CAT</td>\n",
              "      <td>2000-01-03</td>\n",
              "      <td>-0.019280</td>\n",
              "      <td>0.007712</td>\n",
              "      <td>...</td>\n",
              "      <td>1082.250908</td>\n",
              "      <td>0.016667</td>\n",
              "      <td>0.000000</td>\n",
              "      <td>0.000278</td>\n",
              "      <td>0.366667</td>\n",
              "      <td>0.633333</td>\n",
              "      <td>-0.266667</td>\n",
              "      <td>0.423712</td>\n",
              "      <td>0.576288</td>\n",
              "      <td>-0.152576</td>\n",
              "    </tr>\n",
              "    <tr>\n",
              "      <th>0</th>\n",
              "      <td>54.968750</td>\n",
              "      <td>55.125000</td>\n",
              "      <td>51.781250</td>\n",
              "      <td>54.031250</td>\n",
              "      <td>38.065075</td>\n",
              "      <td>53076000</td>\n",
              "      <td>CSCO</td>\n",
              "      <td>2000-01-03</td>\n",
              "      <td>0.017351</td>\n",
              "      <td>0.020243</td>\n",
              "      <td>...</td>\n",
              "      <td>361.054796</td>\n",
              "      <td>0.000000</td>\n",
              "      <td>0.000000</td>\n",
              "      <td>0.000000</td>\n",
              "      <td>0.416667</td>\n",
              "      <td>0.583333</td>\n",
              "      <td>-0.166667</td>\n",
              "      <td>0.423214</td>\n",
              "      <td>0.576786</td>\n",
              "      <td>-0.153572</td>\n",
              "    </tr>\n",
              "  </tbody>\n",
              "</table>\n",
              "<p>5 rows × 129 columns</p>\n",
              "</div>\n",
              "      <button class=\"colab-df-convert\" onclick=\"convertToInteractive('df-cb0bd64e-6f13-4134-8a1e-55569dce53db')\"\n",
              "              title=\"Convert this dataframe to an interactive table.\"\n",
              "              style=\"display:none;\">\n",
              "        \n",
              "  <svg xmlns=\"http://www.w3.org/2000/svg\" height=\"24px\"viewBox=\"0 0 24 24\"\n",
              "       width=\"24px\">\n",
              "    <path d=\"M0 0h24v24H0V0z\" fill=\"none\"/>\n",
              "    <path d=\"M18.56 5.44l.94 2.06.94-2.06 2.06-.94-2.06-.94-.94-2.06-.94 2.06-2.06.94zm-11 1L8.5 8.5l.94-2.06 2.06-.94-2.06-.94L8.5 2.5l-.94 2.06-2.06.94zm10 10l.94 2.06.94-2.06 2.06-.94-2.06-.94-.94-2.06-.94 2.06-2.06.94z\"/><path d=\"M17.41 7.96l-1.37-1.37c-.4-.4-.92-.59-1.43-.59-.52 0-1.04.2-1.43.59L10.3 9.45l-7.72 7.72c-.78.78-.78 2.05 0 2.83L4 21.41c.39.39.9.59 1.41.59.51 0 1.02-.2 1.41-.59l7.78-7.78 2.81-2.81c.8-.78.8-2.07 0-2.86zM5.41 20L4 18.59l7.72-7.72 1.47 1.35L5.41 20z\"/>\n",
              "  </svg>\n",
              "      </button>\n",
              "      \n",
              "  <style>\n",
              "    .colab-df-container {\n",
              "      display:flex;\n",
              "      flex-wrap:wrap;\n",
              "      gap: 12px;\n",
              "    }\n",
              "\n",
              "    .colab-df-convert {\n",
              "      background-color: #E8F0FE;\n",
              "      border: none;\n",
              "      border-radius: 50%;\n",
              "      cursor: pointer;\n",
              "      display: none;\n",
              "      fill: #1967D2;\n",
              "      height: 32px;\n",
              "      padding: 0 0 0 0;\n",
              "      width: 32px;\n",
              "    }\n",
              "\n",
              "    .colab-df-convert:hover {\n",
              "      background-color: #E2EBFA;\n",
              "      box-shadow: 0px 1px 2px rgba(60, 64, 67, 0.3), 0px 1px 3px 1px rgba(60, 64, 67, 0.15);\n",
              "      fill: #174EA6;\n",
              "    }\n",
              "\n",
              "    [theme=dark] .colab-df-convert {\n",
              "      background-color: #3B4455;\n",
              "      fill: #D2E3FC;\n",
              "    }\n",
              "\n",
              "    [theme=dark] .colab-df-convert:hover {\n",
              "      background-color: #434B5C;\n",
              "      box-shadow: 0px 1px 3px 1px rgba(0, 0, 0, 0.15);\n",
              "      filter: drop-shadow(0px 1px 2px rgba(0, 0, 0, 0.3));\n",
              "      fill: #FFFFFF;\n",
              "    }\n",
              "  </style>\n",
              "\n",
              "      <script>\n",
              "        const buttonEl =\n",
              "          document.querySelector('#df-cb0bd64e-6f13-4134-8a1e-55569dce53db button.colab-df-convert');\n",
              "        buttonEl.style.display =\n",
              "          google.colab.kernel.accessAllowed ? 'block' : 'none';\n",
              "\n",
              "        async function convertToInteractive(key) {\n",
              "          const element = document.querySelector('#df-cb0bd64e-6f13-4134-8a1e-55569dce53db');\n",
              "          const dataTable =\n",
              "            await google.colab.kernel.invokeFunction('convertToInteractive',\n",
              "                                                     [key], {});\n",
              "          if (!dataTable) return;\n",
              "\n",
              "          const docLinkHtml = 'Like what you see? Visit the ' +\n",
              "            '<a target=\"_blank\" href=https://colab.research.google.com/notebooks/data_table.ipynb>data table notebook</a>'\n",
              "            + ' to learn more about interactive tables.';\n",
              "          element.innerHTML = '';\n",
              "          dataTable['output_type'] = 'display_data';\n",
              "          await google.colab.output.renderOutput(dataTable, element);\n",
              "          const docLink = document.createElement('div');\n",
              "          docLink.innerHTML = docLinkHtml;\n",
              "          element.appendChild(docLink);\n",
              "        }\n",
              "      </script>\n",
              "    </div>\n",
              "  </div>\n",
              "  "
            ],
            "text/plain": [
              "        open       high        low      close   adjclose     volume   tic  \\\n",
              "0   0.936384   1.004464   0.907924   0.999442   0.850644  535796800  AAPL   \n",
              "0  47.995617  47.995617  45.515598  45.880306  33.436111    6471267   AXP   \n",
              "0  41.437500  41.687500  39.812500  40.187500  25.940277    2638200    BA   \n",
              "0  23.843750  24.500000  23.843750  24.312500  13.171329    5055000   CAT   \n",
              "0  54.968750  55.125000  51.781250  54.031250  38.065075   53076000  CSCO   \n",
              "\n",
              "         date     zopen     zhigh  ...        RSV60    IMAX60    IMIN60  \\\n",
              "0  2000-01-03 -0.063093  0.005025  ...     1.502317  0.933333  0.933333   \n",
              "0  2000-01-03  0.046105  0.046105  ...    74.835474  0.000000  0.000000   \n",
              "0  2000-01-03  0.031104  0.037325  ...   384.626019  0.683333  0.683333   \n",
              "0  2000-01-03 -0.019280  0.007712  ...  1082.250908  0.016667  0.000000   \n",
              "0  2000-01-03  0.017351  0.020243  ...   361.054796  0.000000  0.000000   \n",
              "\n",
              "     IMXD60    CNTP60    CNTN60    CNTD60    SUMP60    SUMN60    SUMD60  \n",
              "0  0.000000  0.516667  0.466667  0.050000  0.558062  0.441938  0.116124  \n",
              "0  0.000000  0.400000  0.600000 -0.200000  0.355306  0.644694 -0.289388  \n",
              "0  0.000000  0.400000  0.600000 -0.200000  0.429893  0.570107 -0.140213  \n",
              "0  0.000278  0.366667  0.633333 -0.266667  0.423712  0.576288 -0.152576  \n",
              "0  0.000000  0.416667  0.583333 -0.166667  0.423214  0.576786 -0.153572  \n",
              "\n",
              "[5 rows x 129 columns]"
            ]
          },
          "execution_count": 91,
          "metadata": {},
          "output_type": "execute_result"
        }
      ],
      "source": [
        "train_environment.df.head()"
      ]
    },
    {
      "cell_type": "markdown",
      "metadata": {
        "id": "gKvE1usaDi8Y"
      },
      "source": [
        "## Step 5: Build Net \n",
        "Update information on the state and action dimension. Crreate networks and optimizer for EIIE."
      ]
    },
    {
      "cell_type": "code",
      "execution_count": null,
      "metadata": {
        "id": "nUK3NnWeDi8Y"
      },
      "outputs": [],
      "source": [
        "action_dim = train_environment.action_dim # 29\n",
        "state_dim = train_environment.state_dim # 11\n",
        "input_dim = len(train_environment.tech_indicator_list)\n",
        "time_steps = train_environment.time_steps\n",
        "\n",
        "cfg.act.update(dict(input_dim=input_dim, time_steps=time_steps))\n",
        "cfg.cri.update(dict(input_dim=input_dim, action_dim= action_dim, time_steps=time_steps))\n",
        "\n",
        "act = build_net(cfg.act)\n",
        "cri = build_net(cfg.cri)\n",
        "act_optimizer = build_optimizer(cfg, default_args=dict(params=act.parameters()))\n",
        "cri_optimizer = build_optimizer(cfg, default_args=dict(params=cri.parameters()))"
      ]
    },
    {
      "cell_type": "markdown",
      "metadata": {
        "id": "JMGj06k1Di8Y"
      },
      "source": [
        "## Step 6: Build Loss Function"
      ]
    },
    {
      "cell_type": "code",
      "execution_count": null,
      "metadata": {
        "id": "ul6jFLNIDi8Y"
      },
      "outputs": [],
      "source": [
        "criterion = build_loss(cfg)"
      ]
    },
    {
      "cell_type": "markdown",
      "metadata": {
        "id": "a5e04E0kDi8Z"
      },
      "source": [
        "## Step 7: Build Transition"
      ]
    },
    {
      "cell_type": "code",
      "execution_count": null,
      "metadata": {
        "id": "LoJJ44p0Di8Z"
      },
      "outputs": [],
      "source": [
        "transition = build_transition(cfg)\n"
      ]
    },
    {
      "cell_type": "markdown",
      "metadata": {
        "id": "Jsv-VkMIDi8Z"
      },
      "source": [
        "## Step 8: Build Agent"
      ]
    },
    {
      "cell_type": "code",
      "execution_count": null,
      "metadata": {
        "id": "tAOjcZDdDi8Z"
      },
      "outputs": [],
      "source": [
        "device = torch.device('cuda' if torch.cuda.is_available() else 'cpu')\n",
        "agent = build_agent(cfg, default_args=dict(action_dim=action_dim,state_dim=state_dim,time_steps = time_steps,act=act,cri=cri,act_optimizer=act_optimizer,cri_optimizer = cri_optimizer,criterion=criterion,transition = transition,device = device))"
      ]
    },
    {
      "cell_type": "markdown",
      "metadata": {
        "id": "pKu-UDM0Di8Z"
      },
      "source": [
        "## Step 9: Build Trainer\n",
        "Build trainer from config and create work directionary to save the result, model and config"
      ]
    },
    {
      "cell_type": "code",
      "execution_count": null,
      "metadata": {
        "colab": {
          "base_uri": "https://localhost:8080/"
        },
        "id": "sKsUks4NDi8Z",
        "outputId": "64072fd3-fb6e-42f1-98a2-ba603becd589"
      },
      "outputs": [
        {
          "name": "stdout",
          "output_type": "stream",
          "text": [
            "| Arguments Keep work_dir: /content/TradeMaster/work_dir/portfolio_management_dj30_eiie_eiie_adam_mse\n"
          ]
        }
      ],
      "source": [
        "trainer = build_trainer(cfg, default_args=dict(train_environment=train_environment,valid_environment=valid_environment,test_environment=test_environment,agent=agent,device=device))\n",
        "work_dir = os.path.join(ROOT, cfg.trainer.work_dir)\n",
        "\n",
        "if not os.path.exists(work_dir):\n",
        "    os.makedirs(work_dir)\n",
        "cfg.dump(osp.join(work_dir, osp.basename(args.config)))"
      ]
    },
    {
      "cell_type": "markdown",
      "metadata": {
        "id": "FtX5LBB6Di8a"
      },
      "source": [
        "## Step 10: RL Agent Training\n",
        "Train the EIIE agent based on the config and save results in workdir. Each epoch may take several hours due to the greatly increased number of technical indicators."
      ]
    },
    {
      "cell_type": "code",
      "execution_count": null,
      "metadata": {
        "colab": {
          "background_save": true
        },
        "id": "dd2A_BiwDi8a",
        "outputId": "a26c737b-fa75-4143-8fae-e8589be8be0c"
      },
      "outputs": [
        {
          "name": "stdout",
          "output_type": "stream",
          "text": [
            "Train Episode: [1/2]\n",
            "+--------------+-------------+------------+--------------+\n",
            "| Total Return | Sharp Ratio | Volatility | Max Drawdown |\n",
            "+--------------+-------------+------------+--------------+\n",
            "| -88.892373%  |  -0.306930  | 1.975111%  |  97.955820%  |\n",
            "+--------------+-------------+------------+--------------+\n",
            "Valid Episode: [1/2]\n",
            "+--------------+-------------+------------+--------------+\n",
            "| Total Return | Sharp Ratio | Volatility | Max Drawdown |\n",
            "+--------------+-------------+------------+--------------+\n",
            "| -23.456653%  |  -0.646248  | 1.218745%  |  29.353698%  |\n",
            "+--------------+-------------+------------+--------------+\n",
            "Train Episode: [2/2]\n",
            "+--------------+-------------+------------+--------------+\n",
            "| Total Return | Sharp Ratio | Volatility | Max Drawdown |\n",
            "+--------------+-------------+------------+--------------+\n",
            "| -25.073072%  |   0.098129  | 1.999204%  |  81.250002%  |\n",
            "+--------------+-------------+------------+--------------+\n",
            "Valid Episode: [2/2]\n",
            "+--------------+-------------+------------+--------------+\n",
            "| Total Return | Sharp Ratio | Volatility | Max Drawdown |\n",
            "+--------------+-------------+------------+--------------+\n",
            "|  -1.146553%  |   0.060728  | 1.175646%  |  21.636947%  |\n",
            "+--------------+-------------+------------+--------------+\n",
            "Resume checkpoint /content/TradeMaster/work_dir/portfolio_management_dj30_eiie_eiie_adam_mse/checkpoints/checkpoint-00002.pth\n",
            "With optim & sched!\n"
          ]
        }
      ],
      "source": [
        "trainer.train_and_valid()"
      ]
    },
    {
      "cell_type": "markdown",
      "metadata": {
        "id": "9Dl5ttWnDi8a"
      },
      "source": [
        "## Step 11: RL Agent Testing"
      ]
    },
    {
      "cell_type": "code",
      "execution_count": null,
      "metadata": {
        "colab": {
          "background_save": true
        },
        "id": "ChzPXzFMDi8a",
        "outputId": "a4c09e5b-3f4c-4386-ee30-d1a057bdf272"
      },
      "outputs": [
        {
          "name": "stdout",
          "output_type": "stream",
          "text": [
            "Resume checkpoint /content/TradeMaster/work_dir/portfolio_management_dj30_eiie_eiie_adam_mse/checkpoints/best.pth\n",
            "Test Best Episode\n",
            "+--------------+-------------+------------+--------------+\n",
            "| Total Return | Sharp Ratio | Volatility | Max Drawdown |\n",
            "+--------------+-------------+------------+--------------+\n",
            "| -12.028011%  |  -0.324568  | 1.063050%  |  31.134292%  |\n",
            "+--------------+-------------+------------+--------------+\n"
          ]
        }
      ],
      "source": [
        "trainer.test();"
      ]
    },
    {
      "cell_type": "code",
      "execution_count": null,
      "metadata": {
        "colab": {
          "background_save": true
        },
        "id": "jy-g2tUuDi8a",
        "outputId": "1d470e87-2065-454f-a81d-2f2d633cbc04"
      },
      "outputs": [
        {
          "data": {
            "image/png": "[encoded data removed]",
            "text/plain": [
              "<Figure size 432x288 with 1 Axes>"
            ]
          },
          "metadata": {},
          "output_type": "display_data"
        }
      ],
      "source": [
        "plot(trainer.test_environment.save_asset_memory(),alg=\"EIIE\")"
      ]
    }
  ],
  "metadata": {
    "accelerator": "GPU",
    "colab": {
      "provenance": []
    },
    "gpuClass": "standard",
    "kernelspec": {
      "display_name": "Python 3 (ipykernel)",
      "language": "python",
      "name": "python3"
    },
    "language_info": {
      "codemirror_mode": {
        "name": "ipython",
        "version": 3
      },
      "file_extension": ".py",
      "mimetype": "text/x-python",
      "name": "python",
      "nbconvert_exporter": "python",
      "pygments_lexer": "ipython3",
      "version": "3.9.18"
    },
    "vscode": {
      "interpreter": {
        "hash": "a1f97403911abd3f02553c8f2b0c54537fddc7efadd9f5d3e31784db6e40c347"
      }
    }
  },
  "nbformat": 4,
  "nbformat_minor": 0
}
